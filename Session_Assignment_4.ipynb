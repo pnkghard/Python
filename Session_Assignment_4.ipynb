{
 "cells": [
  {
   "cell_type": "markdown",
   "id": "790caa80",
   "metadata": {},
   "source": [
    "# Given a dictionary of students and their favouritecolours:     \n",
    "    people={'Arham':'Blue','Lisa':'Yellow',''Vinod:'Purple','Jenny':'Pin'}\n",
    "    1.Find out how many students are in the list.\n",
    "    2.Change Lisa’s Favorite colour.\n",
    "    3.Remove ‘Jenny’and her favorite colour\n",
    "    4.Sort and print students and their favorite colours in alphabetically by name."
   ]
  },
  {
   "cell_type": "code",
   "execution_count": 9,
   "id": "19b4f8c1",
   "metadata": {},
   "outputs": [],
   "source": [
    "people={'Arham':'Blue','Lisa':'Yellow','Vinod':'Purple','Jenny':'Pin'}"
   ]
  },
  {
   "cell_type": "code",
   "execution_count": 10,
   "id": "58d3dc07",
   "metadata": {},
   "outputs": [
    {
     "name": "stdout",
     "output_type": "stream",
     "text": [
      "How many student :  4\n"
     ]
    }
   ],
   "source": [
    "print(\"How many student : \", len(people))"
   ]
  },
  {
   "cell_type": "code",
   "execution_count": 11,
   "id": "f3d1b4e4",
   "metadata": {},
   "outputs": [
    {
     "name": "stdout",
     "output_type": "stream",
     "text": [
      "{'Arham': 'Blue', 'Lisa': 'Green', 'Vinod': 'Purple', 'Jenny': 'Pin'}\n"
     ]
    }
   ],
   "source": [
    "people[\"Lisa\"] = \"Green\"\n",
    "print(people)"
   ]
  },
  {
   "cell_type": "code",
   "execution_count": 12,
   "id": "9748d114",
   "metadata": {},
   "outputs": [
    {
     "name": "stdout",
     "output_type": "stream",
     "text": [
      "{'Arham': 'Blue', 'Lisa': 'Green', 'Vinod': 'Purple'}\n"
     ]
    }
   ],
   "source": [
    "people.pop('Jenny')\n",
    "print(people)"
   ]
  },
  {
   "cell_type": "code",
   "execution_count": 23,
   "id": "607ef4e6",
   "metadata": {},
   "outputs": [
    {
     "name": "stdout",
     "output_type": "stream",
     "text": [
      "Arham-->Blue\n",
      "Lisa-->Green\n",
      "Vinod-->Purple\n"
     ]
    }
   ],
   "source": [
    "for k in sorted(people):\n",
    "    print(f\"{k}-->{people.get(k)}\")"
   ]
  },
  {
   "cell_type": "markdown",
   "id": "bd5cd5cc",
   "metadata": {},
   "source": [
    "# Write a function translate() that will translate a text into \"rövarspråket\" (Swedish for \"robber's language\"). That is, double every consonant and place an occurrence of \"o\" in between. For example, translate(\"this is fun\") should return the string \"tothohisos isos fofunon\"."
   ]
  },
  {
   "cell_type": "code",
   "execution_count": 24,
   "id": "e5fb50b9",
   "metadata": {},
   "outputs": [],
   "source": [
    "con = ['a', 'e', 'i', 'o', 'u']"
   ]
  },
  {
   "cell_type": "code",
   "execution_count": 51,
   "id": "cc3e5a43",
   "metadata": {},
   "outputs": [],
   "source": [
    "def translate(st):\n",
    "    string = []\n",
    "    for ch in st:\n",
    "        if (ch not in con) and ch.isspace()==False:\n",
    "            string.append(ch)\n",
    "            string.append('o')\n",
    "            string.append(ch)\n",
    "        else:\n",
    "            string.append(ch)\n",
    "    return \"\".join(string)"
   ]
  },
  {
   "cell_type": "code",
   "execution_count": 52,
   "id": "881a673f",
   "metadata": {},
   "outputs": [
    {
     "name": "stdout",
     "output_type": "stream",
     "text": [
      "tothohisos isos fofunon\n"
     ]
    }
   ],
   "source": [
    "print(translate(\"this is fun\"))"
   ]
  },
  {
   "cell_type": "markdown",
   "id": "09e14330",
   "metadata": {},
   "source": [
    "# Write a program that contains a function that has one parameter, n, representing an integer greater than 0. The function should return n! (n factorial). Then write a main function that calls this function with the values 1 through 20, one at a time, printing the returned results. This is what your output should look like:"
   ]
  },
  {
   "cell_type": "code",
   "execution_count": 9,
   "id": "5be080b0",
   "metadata": {},
   "outputs": [],
   "source": [
    "def factorial(fact):\n",
    "    if fact==1:\n",
    "        return fact\n",
    "    return fact*factorial(fact-1 )"
   ]
  },
  {
   "cell_type": "code",
   "execution_count": 14,
   "id": "d5faf07a",
   "metadata": {},
   "outputs": [
    {
     "name": "stdout",
     "output_type": "stream",
     "text": [
      "1\t1\n",
      "2\t2\n",
      "3\t6\n",
      "4\t24\n",
      "5\t120\n",
      "6\t720\n",
      "7\t5040\n",
      "8\t40320\n",
      "9\t362880\n",
      "10\t3628800\n",
      "11\t39916800\n",
      "12\t479001600\n",
      "13\t6227020800\n",
      "14\t87178291200\n",
      "15\t1307674368000\n",
      "16\t20922789888000\n",
      "17\t355687428096000\n",
      "18\t6402373705728000\n",
      "19\t121645100408832000\n",
      "20\t2432902008176640000\n"
     ]
    }
   ],
   "source": [
    "if __name__==\"__main__\":\n",
    "    for i in range(1, 21):\n",
    "        print(f\"{i}\\t{factorial(i)}\")"
   ]
  },
  {
   "cell_type": "markdown",
   "id": "b47e86ba",
   "metadata": {},
   "source": [
    "# We can define sum from 1 to x (i.e. 1 + 2 + ... + x) recursively as follows for integer x ≥ 1:1, if x = 1 x + sum from 1 to x-1 if x > 1 Complete the following Python program to compute the sum 1 + 2 + 3 + 4 + 5 + 6 + 7 + 8 + 9 +10 recursively:"
   ]
  },
  {
   "cell_type": "markdown",
   "id": "f98052df",
   "metadata": {},
   "source": [
    "    print sum(10)\n",
    "    def sum(x):"
   ]
  },
  {
   "cell_type": "code",
   "execution_count": 18,
   "id": "d37a5782",
   "metadata": {},
   "outputs": [],
   "source": [
    "def sum(x):\n",
    "    if x==1:\n",
    "        return x\n",
    "    return x+sum(x-1)"
   ]
  },
  {
   "cell_type": "code",
   "execution_count": 20,
   "id": "de2584c2",
   "metadata": {},
   "outputs": [
    {
     "name": "stdout",
     "output_type": "stream",
     "text": [
      "55\n"
     ]
    }
   ],
   "source": [
    "print(sum(10))"
   ]
  },
  {
   "cell_type": "markdown",
   "id": "3b5b329a",
   "metadata": {},
   "source": [
    "# Define a function overlapping () that takes two lists and returns True if they have at least one member in common, False otherwise."
   ]
  },
  {
   "cell_type": "code",
   "execution_count": 31,
   "id": "7d157b60",
   "metadata": {},
   "outputs": [],
   "source": [
    "def overlapping(lst1, lst2):\n",
    "    for ch in lst1:\n",
    "        if ch in lst2:\n",
    "            return True\n",
    "    return False"
   ]
  },
  {
   "cell_type": "code",
   "execution_count": 34,
   "id": "558cc45f",
   "metadata": {},
   "outputs": [
    {
     "name": "stdout",
     "output_type": "stream",
     "text": [
      "False\n"
     ]
    }
   ],
   "source": [
    "l1 = [1, 2, 3, 4, 5]\n",
    "l2 = [10, 6, 7, 8, 9, 11]\n",
    "if len(l1)>len(l2):\n",
    "    print(overlapping(l1, l2))\n",
    "else :\n",
    "    print(overlapping(l2, l1))"
   ]
  },
  {
   "cell_type": "markdown",
   "id": "f29c3377",
   "metadata": {},
   "source": [
    "# Write a function find_longest_word() that takes a list of words and returns the length of the longest one"
   ]
  },
  {
   "cell_type": "code",
   "execution_count": 37,
   "id": "84866f51",
   "metadata": {},
   "outputs": [],
   "source": [
    "def find_longest_word(word):\n",
    "    wrd = [len(l) for l in word]\n",
    "    return max(wrd)"
   ]
  },
  {
   "cell_type": "code",
   "execution_count": 39,
   "id": "11e5982b",
   "metadata": {},
   "outputs": [
    {
     "name": "stdout",
     "output_type": "stream",
     "text": [
      "8\n"
     ]
    }
   ],
   "source": [
    "word = [\"Pankaj\", \"Awishkar\", \"Pooja\", \"Sanket\", \"Sandip\"]\n",
    "print(find_longest_word(word))"
   ]
  },
  {
   "cell_type": "markdown",
   "id": "d6621028",
   "metadata": {},
   "source": [
    "# Write a function filter_long_words() that takes a list of words and an integer n and returns the list of words that are longer than n"
   ]
  },
  {
   "cell_type": "code",
   "execution_count": 52,
   "id": "e2133de4",
   "metadata": {},
   "outputs": [],
   "source": [
    "def filter_longest_word(word, n):\n",
    "    wrd = [l for l in word if len(l)>n]\n",
    "    return wrd"
   ]
  },
  {
   "cell_type": "code",
   "execution_count": 53,
   "id": "56aff3b6",
   "metadata": {},
   "outputs": [
    {
     "name": "stdout",
     "output_type": "stream",
     "text": [
      "['Awishkar']\n"
     ]
    }
   ],
   "source": [
    "print(filter_longest_word(word, 6))"
   ]
  },
  {
   "cell_type": "markdown",
   "id": "5d8c6be0",
   "metadata": {},
   "source": [
    "# two or more occurrences of the space character is compressed into one, and inserts an extra space after a period if the period is directly followed by a letter. \n",
    "    e.g. correct (\"This is very funny and cool.Indeed!\") should return \"This is very funny and cool. Indeed!\""
   ]
  },
  {
   "cell_type": "code",
   "execution_count": 54,
   "id": "ae7d5cd1",
   "metadata": {},
   "outputs": [],
   "source": [
    "st = \"This is very funny and cool.Indeed!\""
   ]
  },
  {
   "cell_type": "code",
   "execution_count": 58,
   "id": "404671eb",
   "metadata": {},
   "outputs": [
    {
     "ename": "IndexError",
     "evalue": "list index out of range",
     "output_type": "error",
     "traceback": [
      "\u001b[1;31m---------------------------------------------------------------------------\u001b[0m",
      "\u001b[1;31mIndexError\u001b[0m                                Traceback (most recent call last)",
      "\u001b[1;32m~\\AppData\\Local\\Temp\\ipykernel_17864\\2618162458.py\u001b[0m in \u001b[0;36m<module>\u001b[1;34m\u001b[0m\n\u001b[0;32m      4\u001b[0m     \u001b[1;32mif\u001b[0m \u001b[0mch\u001b[0m\u001b[1;33m.\u001b[0m\u001b[0misspace\u001b[0m\u001b[1;33m(\u001b[0m\u001b[1;33m)\u001b[0m\u001b[1;33m==\u001b[0m\u001b[1;32mFalse\u001b[0m \u001b[1;32mand\u001b[0m \u001b[0mch\u001b[0m\u001b[1;33m!=\u001b[0m\u001b[1;34m'.'\u001b[0m\u001b[1;33m:\u001b[0m\u001b[1;33m\u001b[0m\u001b[1;33m\u001b[0m\u001b[0m\n\u001b[0;32m      5\u001b[0m         \u001b[0mlst\u001b[0m\u001b[1;33m.\u001b[0m\u001b[0mappend\u001b[0m\u001b[1;33m(\u001b[0m\u001b[0mch\u001b[0m\u001b[1;33m)\u001b[0m\u001b[1;33m\u001b[0m\u001b[1;33m\u001b[0m\u001b[0m\n\u001b[1;32m----> 6\u001b[1;33m     \u001b[1;32melif\u001b[0m \u001b[0mch\u001b[0m\u001b[1;33m.\u001b[0m\u001b[0misspace\u001b[0m\u001b[1;33m(\u001b[0m\u001b[1;33m)\u001b[0m \u001b[1;32mand\u001b[0m \u001b[0mlst\u001b[0m\u001b[1;33m[\u001b[0m\u001b[0mi\u001b[0m\u001b[1;33m]\u001b[0m\u001b[1;33m.\u001b[0m\u001b[0misspace\u001b[0m\u001b[1;33m(\u001b[0m\u001b[1;33m)\u001b[0m\u001b[1;33m:\u001b[0m\u001b[1;33m\u001b[0m\u001b[1;33m\u001b[0m\u001b[0m\n\u001b[0m\u001b[0;32m      7\u001b[0m         \u001b[1;32mcontinue\u001b[0m\u001b[1;33m\u001b[0m\u001b[1;33m\u001b[0m\u001b[0m\n\u001b[0;32m      8\u001b[0m     \u001b[1;32melif\u001b[0m \u001b[0mch\u001b[0m\u001b[1;33m==\u001b[0m\u001b[1;34m'.'\u001b[0m\u001b[1;33m:\u001b[0m\u001b[1;33m\u001b[0m\u001b[1;33m\u001b[0m\u001b[0m\n",
      "\u001b[1;31mIndexError\u001b[0m: list index out of range"
     ]
    }
   ],
   "source": [
    "lst = []\n",
    "i = 0\n",
    "for ch in st:\n",
    "    if ch.isspace()==False and ch!='.':\n",
    "        lst.append(ch)\n",
    "    elif ch.isspace() and lst[i].isspace():\n",
    "        continue\n",
    "    elif ch=='.':\n",
    "        lst.append(ch)\n",
    "        lst.append(\" \")\n",
    "    else:\n",
    "        lst.append(ch)\n",
    "    i+=1"
   ]
  },
  {
   "cell_type": "code",
   "execution_count": null,
   "id": "afa6819a",
   "metadata": {},
   "outputs": [],
   "source": []
  }
 ],
 "metadata": {
  "kernelspec": {
   "display_name": "Python 3 (ipykernel)",
   "language": "python",
   "name": "python3"
  },
  "language_info": {
   "codemirror_mode": {
    "name": "ipython",
    "version": 3
   },
   "file_extension": ".py",
   "mimetype": "text/x-python",
   "name": "python",
   "nbconvert_exporter": "python",
   "pygments_lexer": "ipython3",
   "version": "3.9.13"
  }
 },
 "nbformat": 4,
 "nbformat_minor": 5
}
