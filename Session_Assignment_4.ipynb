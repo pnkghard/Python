{
 "cells": [
  {
   "cell_type": "markdown",
   "id": "790caa80",
   "metadata": {},
   "source": [
    "# Given a dictionary of students and their favouritecolours:     \n",
    "    people={'Arham':'Blue','Lisa':'Yellow',''Vinod:'Purple','Jenny':'Pin'}\n",
    "    1.Find out how many students are in the list.\n",
    "    2.Change Lisa’s Favorite colour.\n",
    "    3.Remove ‘Jenny’and her favorite colour\n",
    "    4.Sort and print students and their favorite colours in alphabetically by name."
   ]
  },
  {
   "cell_type": "code",
   "execution_count": 5,
   "id": "19b4f8c1",
   "metadata": {},
   "outputs": [],
   "source": [
    "people={'Arham':'Blue','Lisa':'Yellow','Vinod':'Purple','Jenny':'Pin'}"
   ]
  },
  {
   "cell_type": "code",
   "execution_count": 6,
   "id": "58d3dc07",
   "metadata": {},
   "outputs": [
    {
     "name": "stdout",
     "output_type": "stream",
     "text": [
      "How many student :  4\n"
     ]
    }
   ],
   "source": [
    "print(\"How many student : \", len(people))"
   ]
  },
  {
   "cell_type": "code",
   "execution_count": 7,
   "id": "f3d1b4e4",
   "metadata": {},
   "outputs": [
    {
     "name": "stdout",
     "output_type": "stream",
     "text": [
      "{'Arham': 'Blue', 'Lisa': 'Green', 'Vinod': 'Purple', 'Jenny': 'Pin'}\n"
     ]
    }
   ],
   "source": [
    "people[\"Lisa\"] = \"Green\"\n",
    "print(people)"
   ]
  },
  {
   "cell_type": "code",
   "execution_count": 8,
   "id": "9748d114",
   "metadata": {},
   "outputs": [
    {
     "name": "stdout",
     "output_type": "stream",
     "text": [
      "{'Arham': 'Blue', 'Lisa': 'Green', 'Vinod': 'Purple'}\n"
     ]
    }
   ],
   "source": [
    "people.pop('Jenny')\n",
    "print(people)"
   ]
  },
  {
   "cell_type": "code",
   "execution_count": 9,
   "id": "607ef4e6",
   "metadata": {},
   "outputs": [
    {
     "name": "stdout",
     "output_type": "stream",
     "text": [
      "Arham-->Blue\n",
      "Lisa-->Green\n",
      "Vinod-->Purple\n"
     ]
    }
   ],
   "source": [
    "for k in sorted(people):\n",
    "    print(f\"{k}-->{people.get(k)}\")"
   ]
  },
  {
   "cell_type": "markdown",
   "id": "bd5cd5cc",
   "metadata": {},
   "source": [
    "# Write a function translate() that will translate a text into \"rövarspråket\" (Swedish for \"robber's language\"). That is, double every consonant and place an occurrence of \"o\" in between. For example, translate(\"this is fun\") should return the string \"tothohisos isos fofunon\"."
   ]
  },
  {
   "cell_type": "code",
   "execution_count": 10,
   "id": "e5fb50b9",
   "metadata": {},
   "outputs": [],
   "source": [
    "con = ['a', 'e', 'i', 'o', 'u']"
   ]
  },
  {
   "cell_type": "code",
   "execution_count": 11,
   "id": "cc3e5a43",
   "metadata": {},
   "outputs": [],
   "source": [
    "def translate(st):\n",
    "    string = []\n",
    "    for ch in st:\n",
    "        if (ch not in con) and ch.isspace()==False:\n",
    "            string.append(ch)\n",
    "            string.append('o')\n",
    "            string.append(ch)\n",
    "        else:\n",
    "            string.append(ch)\n",
    "    return \"\".join(string)"
   ]
  },
  {
   "cell_type": "code",
   "execution_count": 12,
   "id": "881a673f",
   "metadata": {},
   "outputs": [
    {
     "name": "stdout",
     "output_type": "stream",
     "text": [
      "tothohisos isos fofunon\n"
     ]
    }
   ],
   "source": [
    "print(translate(\"this is fun\"))"
   ]
  },
  {
   "cell_type": "markdown",
   "id": "09e14330",
   "metadata": {},
   "source": [
    "# Write a program that contains a function that has one parameter, n, representing an integer greater than 0. The function should return n! (n factorial). Then write a main function that calls this function with the values 1 through 20, one at a time, printing the returned results. This is what your output should look like:"
   ]
  },
  {
   "cell_type": "code",
   "execution_count": 13,
   "id": "5be080b0",
   "metadata": {},
   "outputs": [],
   "source": [
    "def factorial(fact):\n",
    "    if fact==1:\n",
    "        return fact\n",
    "    return fact*factorial(fact-1 )"
   ]
  },
  {
   "cell_type": "code",
   "execution_count": 14,
   "id": "d5faf07a",
   "metadata": {},
   "outputs": [
    {
     "name": "stdout",
     "output_type": "stream",
     "text": [
      "1\t1\n",
      "2\t2\n",
      "3\t6\n",
      "4\t24\n",
      "5\t120\n",
      "6\t720\n",
      "7\t5040\n",
      "8\t40320\n",
      "9\t362880\n",
      "10\t3628800\n",
      "11\t39916800\n",
      "12\t479001600\n",
      "13\t6227020800\n",
      "14\t87178291200\n",
      "15\t1307674368000\n",
      "16\t20922789888000\n",
      "17\t355687428096000\n",
      "18\t6402373705728000\n",
      "19\t121645100408832000\n",
      "20\t2432902008176640000\n"
     ]
    }
   ],
   "source": [
    "if __name__==\"__main__\":\n",
    "    for i in range(1, 21):\n",
    "        print(f\"{i}\\t{factorial(i)}\")"
   ]
  },
  {
   "cell_type": "markdown",
   "id": "b47e86ba",
   "metadata": {},
   "source": [
    "# We can define sum from 1 to x (i.e. 1 + 2 + ... + x) recursively as follows for integer x ≥ 1:1, if x = 1 x + sum from 1 to x-1 if x > 1 Complete the following Python program to compute the sum 1 + 2 + 3 + 4 + 5 + 6 + 7 + 8 + 9 +10 recursively:"
   ]
  },
  {
   "cell_type": "markdown",
   "id": "f98052df",
   "metadata": {},
   "source": [
    "    print sum(10)\n",
    "    def sum(x):"
   ]
  },
  {
   "cell_type": "code",
   "execution_count": 15,
   "id": "d37a5782",
   "metadata": {},
   "outputs": [],
   "source": [
    "def sum(x):\n",
    "    if x==1:\n",
    "        return x\n",
    "    return x+sum(x-1)"
   ]
  },
  {
   "cell_type": "code",
   "execution_count": 16,
   "id": "de2584c2",
   "metadata": {},
   "outputs": [
    {
     "name": "stdout",
     "output_type": "stream",
     "text": [
      "55\n"
     ]
    }
   ],
   "source": [
    "print(sum(10))"
   ]
  },
  {
   "cell_type": "markdown",
   "id": "3b5b329a",
   "metadata": {},
   "source": [
    "# Define a function overlapping () that takes two lists and returns True if they have at least one member in common, False otherwise."
   ]
  },
  {
   "cell_type": "code",
   "execution_count": 17,
   "id": "7d157b60",
   "metadata": {},
   "outputs": [],
   "source": [
    "def overlapping(lst1, lst2):\n",
    "    for ch in lst1:\n",
    "        if ch in lst2:\n",
    "            return True\n",
    "    return False"
   ]
  },
  {
   "cell_type": "code",
   "execution_count": 18,
   "id": "558cc45f",
   "metadata": {},
   "outputs": [
    {
     "name": "stdout",
     "output_type": "stream",
     "text": [
      "False\n"
     ]
    }
   ],
   "source": [
    "l1 = [1, 2, 3, 4, 5]\n",
    "l2 = [10, 6, 7, 8, 9, 11]\n",
    "if len(l1)>len(l2):\n",
    "    print(overlapping(l1, l2))\n",
    "else :\n",
    "    print(overlapping(l2, l1))"
   ]
  },
  {
   "cell_type": "markdown",
   "id": "f29c3377",
   "metadata": {},
   "source": [
    "# Write a function find_longest_word() that takes a list of words and returns the length of the longest one"
   ]
  },
  {
   "cell_type": "code",
   "execution_count": 19,
   "id": "84866f51",
   "metadata": {},
   "outputs": [],
   "source": [
    "def find_longest_word(word):\n",
    "    wrd = [len(l) for l in word]\n",
    "    return max(wrd)"
   ]
  },
  {
   "cell_type": "code",
   "execution_count": 20,
   "id": "11e5982b",
   "metadata": {},
   "outputs": [
    {
     "name": "stdout",
     "output_type": "stream",
     "text": [
      "8\n"
     ]
    }
   ],
   "source": [
    "word = [\"Pankaj\", \"Awishkar\", \"Pooja\", \"Sanket\", \"Sandip\"]\n",
    "print(find_longest_word(word))"
   ]
  },
  {
   "cell_type": "markdown",
   "id": "d6621028",
   "metadata": {},
   "source": [
    "# Write a function filter_long_words() that takes a list of words and an integer n and returns the list of words that are longer than n"
   ]
  },
  {
   "cell_type": "code",
   "execution_count": 21,
   "id": "e2133de4",
   "metadata": {},
   "outputs": [],
   "source": [
    "def filter_longest_word(word, n):\n",
    "    wrd = [l for l in word if len(l)>n]\n",
    "    return wrd"
   ]
  },
  {
   "cell_type": "code",
   "execution_count": 22,
   "id": "56aff3b6",
   "metadata": {},
   "outputs": [
    {
     "name": "stdout",
     "output_type": "stream",
     "text": [
      "['Awishkar']\n"
     ]
    }
   ],
   "source": [
    "print(filter_longest_word(word, 6))"
   ]
  },
  {
   "cell_type": "markdown",
   "id": "5d8c6be0",
   "metadata": {},
   "source": [
    "# two or more occurrences of the space character is compressed into one, and inserts an extra space after a period if the period is directly followed by a letter. \n",
    "    e.g. correct (\"This is very funny and cool.Indeed!\") should return \"This is very funny and cool. Indeed!\""
   ]
  },
  {
   "cell_type": "code",
   "execution_count": 1,
   "id": "ae7d5cd1",
   "metadata": {},
   "outputs": [],
   "source": [
    "st = \"This is very funny and cool.Indeed!\""
   ]
  },
  {
   "cell_type": "code",
   "execution_count": 10,
   "id": "404671eb",
   "metadata": {},
   "outputs": [],
   "source": [
    "def char_adjust(string):\n",
    "    lst = []\n",
    "    i = 0\n",
    "    for ch in string:\n",
    "        if ch==\" \" and len(lst)!=0:\n",
    "            lst.append(ch)\n",
    "        elif ch=='.' and len(lst)!=len(string):\n",
    "            lst.append(ch)\n",
    "            lst.append(\" \")\n",
    "        elif ch==\" \" and lst[i]==\" \":\n",
    "            continue\n",
    "        else:\n",
    "            lst.append(ch)\n",
    "        i+=1\n",
    "    return \"\".join(lst)"
   ]
  },
  {
   "cell_type": "code",
   "execution_count": 11,
   "id": "afa6819a",
   "metadata": {},
   "outputs": [
    {
     "name": "stdout",
     "output_type": "stream",
     "text": [
      "This is very funny and cool. Indeed!\n"
     ]
    }
   ],
   "source": [
    "print(char_adjust(st))"
   ]
  },
  {
   "cell_type": "markdown",
   "id": "14ec2e6e",
   "metadata": {},
   "source": [
    "# In English, present participle is formed by adding suffix -ing to infinite form: go -> going. A simple set of heuristic rules can be given as follows:\n",
    "    If the verb ends in e, drop the e and add ing (if not exception be, see, flee, knee,etc.)\n",
    "    If the verb ends in ie, change ie to y and adding"
   ]
  },
  {
   "cell_type": "code",
   "execution_count": 25,
   "id": "0d847abc",
   "metadata": {},
   "outputs": [
    {
     "name": "stdout",
     "output_type": "stream",
     "text": [
      "infiniting\n"
     ]
    }
   ],
   "source": [
    "def addingSuffix(st):\n",
    "    string = st[:-2]\n",
    "    lst = [\"be\", \"see\", \"flee\", \"knee\"]\n",
    "    if st not in lst:\n",
    "        if st[-2]=='i' and st[-1]=='e':\n",
    "            string = string + 'y'\n",
    "            return string\n",
    "        elif st[-1]=='e':\n",
    "            string = string + st[-2] + \"ing\"\n",
    "            return string\n",
    "        else :\n",
    "            return st\n",
    "    else:\n",
    "        return f\"{st} is exception string\"\n",
    "print(addingSuffix(\"infinite\"))"
   ]
  },
  {
   "cell_type": "markdown",
   "id": "5ec76242-2eb4-495a-89d3-644ba66c8480",
   "metadata": {},
   "source": [
    "Write a Python program to replace last value of tuples in a list.\n",
    "\n",
    "\tSample list: [(10, 20, 40), (40, 50, 60), (70, 80, 90)]\n",
    "    Expected Output: [(10, 20, 100), (40, 50, 100), (70, 80, 100)]"
   ]
  },
  {
   "cell_type": "code",
   "execution_count": 44,
   "id": "ad5ef978",
   "metadata": {},
   "outputs": [
    {
     "data": {
      "text/plain": [
       "[(10, 20, 40), (40, 50, 60), (70, 80, 90)]"
      ]
     },
     "execution_count": 44,
     "metadata": {},
     "output_type": "execute_result"
    }
   ],
   "source": [
    "lst = [(10, 20, 40), (40, 50, 60), (70, 80, 90)]\n",
    "lst"
   ]
  },
  {
   "cell_type": "markdown",
   "id": "2ba21845-2581-4f0e-8f68-4009de43c241",
   "metadata": {},
   "source": [
    "Load a sample dataset and explore the data and draw some insights.\n",
    "Also use Matplotlib and seaborn libraries.\n"
   ]
  },
  {
   "cell_type": "code",
   "execution_count": 47,
   "id": "9b726de0-cee7-49a5-936e-9fb3cdb59196",
   "metadata": {},
   "outputs": [],
   "source": [
    "import pandas as pd"
   ]
  },
  {
   "cell_type": "code",
   "execution_count": 68,
   "id": "22d4f45e-fb44-47c0-b274-fad5250c7e6c",
   "metadata": {},
   "outputs": [
    {
     "data": {
      "text/html": [
       "<div>\n",
       "<style scoped>\n",
       "    .dataframe tbody tr th:only-of-type {\n",
       "        vertical-align: middle;\n",
       "    }\n",
       "\n",
       "    .dataframe tbody tr th {\n",
       "        vertical-align: top;\n",
       "    }\n",
       "\n",
       "    .dataframe thead th {\n",
       "        text-align: right;\n",
       "    }\n",
       "</style>\n",
       "<table border=\"1\" class=\"dataframe\">\n",
       "  <thead>\n",
       "    <tr style=\"text-align: right;\">\n",
       "      <th></th>\n",
       "      <th>Duration</th>\n",
       "      <th>Pulse</th>\n",
       "      <th>Maxpulse</th>\n",
       "      <th>Calories</th>\n",
       "    </tr>\n",
       "  </thead>\n",
       "  <tbody>\n",
       "    <tr>\n",
       "      <th>112</th>\n",
       "      <td>15</td>\n",
       "      <td>124</td>\n",
       "      <td>139</td>\n",
       "      <td>124.2</td>\n",
       "    </tr>\n",
       "    <tr>\n",
       "      <th>93</th>\n",
       "      <td>15</td>\n",
       "      <td>80</td>\n",
       "      <td>100</td>\n",
       "      <td>50.5</td>\n",
       "    </tr>\n",
       "    <tr>\n",
       "      <th>135</th>\n",
       "      <td>20</td>\n",
       "      <td>136</td>\n",
       "      <td>156</td>\n",
       "      <td>189.0</td>\n",
       "    </tr>\n",
       "    <tr>\n",
       "      <th>68</th>\n",
       "      <td>20</td>\n",
       "      <td>106</td>\n",
       "      <td>136</td>\n",
       "      <td>110.4</td>\n",
       "    </tr>\n",
       "    <tr>\n",
       "      <th>64</th>\n",
       "      <td>20</td>\n",
       "      <td>110</td>\n",
       "      <td>130</td>\n",
       "      <td>131.4</td>\n",
       "    </tr>\n",
       "    <tr>\n",
       "      <th>...</th>\n",
       "      <td>...</td>\n",
       "      <td>...</td>\n",
       "      <td>...</td>\n",
       "      <td>...</td>\n",
       "    </tr>\n",
       "    <tr>\n",
       "      <th>90</th>\n",
       "      <td>180</td>\n",
       "      <td>101</td>\n",
       "      <td>127</td>\n",
       "      <td>600.1</td>\n",
       "    </tr>\n",
       "    <tr>\n",
       "      <th>109</th>\n",
       "      <td>210</td>\n",
       "      <td>137</td>\n",
       "      <td>184</td>\n",
       "      <td>1860.4</td>\n",
       "    </tr>\n",
       "    <tr>\n",
       "      <th>60</th>\n",
       "      <td>210</td>\n",
       "      <td>108</td>\n",
       "      <td>160</td>\n",
       "      <td>1376.0</td>\n",
       "    </tr>\n",
       "    <tr>\n",
       "      <th>79</th>\n",
       "      <td>270</td>\n",
       "      <td>100</td>\n",
       "      <td>131</td>\n",
       "      <td>1729.0</td>\n",
       "    </tr>\n",
       "    <tr>\n",
       "      <th>69</th>\n",
       "      <td>300</td>\n",
       "      <td>108</td>\n",
       "      <td>143</td>\n",
       "      <td>1500.2</td>\n",
       "    </tr>\n",
       "  </tbody>\n",
       "</table>\n",
       "<p>169 rows × 4 columns</p>\n",
       "</div>"
      ],
      "text/plain": [
       "     Duration  Pulse  Maxpulse  Calories\n",
       "112        15    124       139     124.2\n",
       "93         15     80       100      50.5\n",
       "135        20    136       156     189.0\n",
       "68         20    106       136     110.4\n",
       "64         20    110       130     131.4\n",
       "..        ...    ...       ...       ...\n",
       "90        180    101       127     600.1\n",
       "109       210    137       184    1860.4\n",
       "60        210    108       160    1376.0\n",
       "79        270    100       131    1729.0\n",
       "69        300    108       143    1500.2\n",
       "\n",
       "[169 rows x 4 columns]"
      ]
     },
     "execution_count": 68,
     "metadata": {},
     "output_type": "execute_result"
    }
   ],
   "source": [
    "data = pd.read_csv(\"F:\\Public\\Statistic&Analitics\\data.csv\")\n",
    "data.sort_values(by=[\"Duration\"])"
   ]
  },
  {
   "cell_type": "code",
   "execution_count": 69,
   "id": "4aa2a022-5eb3-4a0a-a243-a284fc12ddaa",
   "metadata": {},
   "outputs": [
    {
     "name": "stdout",
     "output_type": "stream",
     "text": [
      "<class 'pandas.core.frame.DataFrame'>\n",
      "RangeIndex: 169 entries, 0 to 168\n",
      "Data columns (total 4 columns):\n",
      " #   Column    Non-Null Count  Dtype  \n",
      "---  ------    --------------  -----  \n",
      " 0   Duration  169 non-null    int64  \n",
      " 1   Pulse     169 non-null    int64  \n",
      " 2   Maxpulse  169 non-null    int64  \n",
      " 3   Calories  164 non-null    float64\n",
      "dtypes: float64(1), int64(3)\n",
      "memory usage: 5.4 KB\n"
     ]
    }
   ],
   "source": [
    "import matplotlib.pyplot as plt\n",
    "data.info()"
   ]
  },
  {
   "cell_type": "code",
   "execution_count": 77,
   "id": "fe50f9a9-1c65-4ae6-98a5-988636790a7c",
   "metadata": {},
   "outputs": [
    {
     "name": "stdout",
     "output_type": "stream",
     "text": [
      "Mean:\n",
      "Duration     63.846154\n",
      "Pulse       107.461538\n",
      "Maxpulse    134.047337\n",
      "Calories    375.790244\n",
      "dtype: float64\n",
      "Median:\n",
      "Duration     60.0\n",
      "Pulse       105.0\n",
      "Maxpulse    131.0\n",
      "Calories    318.6\n",
      "dtype: float64\n",
      "Mode:\n",
      "   Duration  Pulse  Maxpulse  Calories\n",
      "0        60    100       120     300.0\n"
     ]
    }
   ],
   "source": [
    "x = data[\"Duration\"]\n",
    "mean = data.mean()\n",
    "median = data.median()\n",
    "mode = data.mode()\n",
    "print(f\"Mean:\\n{mean}\\nMedian:\\n{median}\\nMode:\\n{mode}\")"
   ]
  },
  {
   "cell_type": "code",
   "execution_count": 80,
   "id": "939cad43-9b9b-4ea4-82fd-ec5a944c8083",
   "metadata": {},
   "outputs": [],
   "source": [
    "y = (mean[\"Pulse\"]*data[\"Pulse\"]) + median[\"Pulse\"]"
   ]
  },
  {
   "cell_type": "code",
   "execution_count": 81,
   "id": "03ba608c-e334-4e64-9e33-246b683dc8cc",
   "metadata": {},
   "outputs": [
    {
     "data": {
      "image/png": "[encoded data removed]",
      "text/plain": [
       "<Figure size 640x480 with 1 Axes>"
      ]
     },
     "metadata": {},
     "output_type": "display_data"
    }
   ],
   "source": [
    "plt.subplot()\n",
    "plt.plot(x, y)\n",
    "plt.show()"
   ]
  },
  {
   "cell_type": "code",
   "execution_count": null,
   "id": "24a12c7c-7182-4d96-8170-96450a4bb7fd",
   "metadata": {},
   "outputs": [],
   "source": []
  }
 ],
 "metadata": {
  "kernelspec": {
   "display_name": "Python 3 (ipykernel)",
   "language": "python",
   "name": "python3"
  },
  "language_info": {
   "codemirror_mode": {
    "name": "ipython",
    "version": 3
   },
   "file_extension": ".py",
   "mimetype": "text/x-python",
   "name": "python",
   "nbconvert_exporter": "python",
   "pygments_lexer": "ipython3",
   "version": "3.9.13"
  }
 },
 "nbformat": 4,
 "nbformat_minor": 5
}
