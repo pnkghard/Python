{
 "cells": [
  {
   "cell_type": "markdown",
   "id": "730fc3e4",
   "metadata": {},
   "source": [
    "# 1. the two lists convert it into the dictionary"
   ]
  },
  {
   "cell_type": "markdown",
   "id": "f805d329",
   "metadata": {},
   "source": [
    "    keys = ['Ten', 'Twenty', 'Thirty']\n",
    "    values = [10, 20, 30]\n",
    "    Expected output:\n",
    "    {'Ten': 10, 'Twenty': 20, 'Thirty': 30}"
   ]
  },
  {
   "cell_type": "code",
   "execution_count": 1,
   "id": "c9e8a0ee",
   "metadata": {},
   "outputs": [],
   "source": [
    "keys = ['Ten', 'Twenty', 'Thirty']\n",
    "values = [10, 20, 30]"
   ]
  },
  {
   "cell_type": "code",
   "execution_count": 2,
   "id": "12e6edb8",
   "metadata": {},
   "outputs": [
    {
     "name": "stdout",
     "output_type": "stream",
     "text": [
      "{'Ten': 10, 'Twenty': 20, 'Thirty': 30}\n"
     ]
    }
   ],
   "source": [
    "d = dict(zip(keys, values))\n",
    "for k, v in zip(keys, values):\n",
    "    d[k] = v\n",
    "print(d)"
   ]
  },
  {
   "cell_type": "markdown",
   "id": "e3d72f25",
   "metadata": {},
   "source": [
    "# 2. Merge following two Python dictionaries into one"
   ]
  },
  {
   "cell_type": "markdown",
   "id": "19db9525",
   "metadata": {},
   "source": [
    "    dict1 = {'Ten': 10, 'Twenty': 20, 'Thirty': 30}\n",
    "    dict2 = {'Thirty': 30, 'Fourty': 40, 'Fifty': 50}\n",
    "    Expected output:\n",
    "    {'Ten': 10, 'Twenty': 20, 'Thirty': 30, 'Fourty': 40, 'Fifty': 50}"
   ]
  },
  {
   "cell_type": "code",
   "execution_count": 3,
   "id": "9bf249f1",
   "metadata": {},
   "outputs": [],
   "source": [
    "dict1 = {'Ten': 10, 'Twenty': 20, 'Thirty': 30}\n",
    "dict2 = {'Thirty': 30, 'Fourty': 40, 'Fifty': 50}"
   ]
  },
  {
   "cell_type": "code",
   "execution_count": 4,
   "id": "c846298c",
   "metadata": {},
   "outputs": [
    {
     "name": "stdout",
     "output_type": "stream",
     "text": [
      "{'Ten': 10, 'Twenty': 20, 'Thirty': 30, 'Fourty': 40, 'Fifty': 50}\n"
     ]
    }
   ],
   "source": [
    "dic = {**dict1, **dict2}\n",
    "print(dic)"
   ]
  },
  {
   "cell_type": "markdown",
   "id": "2426cf8e",
   "metadata": {},
   "source": [
    "# 3. Display the value of key history from the following dictionary the value of key ‘history’ from the below dict"
   ]
  },
  {
   "cell_type": "code",
   "execution_count": 5,
   "id": "2c2a8e00",
   "metadata": {},
   "outputs": [],
   "source": [
    "sampleDict = {\n",
    "                \"class\":{\n",
    "                    \"student\":{\n",
    "                        \"name\":\"Mike\",\n",
    "                        \"marks\":{\n",
    "                            \"physics\":70,\n",
    "                            \"history\":80\n",
    "                        }\n",
    "                    }\n",
    "                }\n",
    "            }"
   ]
  },
  {
   "cell_type": "code",
   "execution_count": 8,
   "id": "038d1a4b",
   "metadata": {},
   "outputs": [
    {
     "name": "stdout",
     "output_type": "stream",
     "text": [
      "80\n"
     ]
    }
   ],
   "source": [
    "print(sampleDict[\"class\"][\"student\"][\"marks\"][\"history\"])"
   ]
  },
  {
   "cell_type": "markdown",
   "id": "17c2ba6e",
   "metadata": {},
   "source": [
    "# 4 Delete set of keys from a dictionary\n",
    "    Given:sampleDict = {\n",
    "    \"name\": \"Kelly\",\n",
    "    \"age\":25,\n",
    "    \"salary\": 8000,\n",
    "    \"city\": \"New york\"\n",
    "    }\n",
    "    keysToRemove = [\"name\", \"salary\"]"
   ]
  },
  {
   "cell_type": "code",
   "execution_count": 14,
   "id": "51c9f69a",
   "metadata": {},
   "outputs": [],
   "source": [
    "sampleDict = {\n",
    "                    \"name\": \"Kelly\",\n",
    "                    \"age\":25,\n",
    "                    \"salary\": 8000,\n",
    "                    \"city\": \"New york\"\n",
    "            }"
   ]
  },
  {
   "cell_type": "code",
   "execution_count": 15,
   "id": "c6ce7c59",
   "metadata": {},
   "outputs": [],
   "source": [
    "keysToRemove = [\"name\", \"salary\"]"
   ]
  },
  {
   "cell_type": "code",
   "execution_count": 16,
   "id": "255ec1af",
   "metadata": {},
   "outputs": [
    {
     "name": "stdout",
     "output_type": "stream",
     "text": [
      "{'age': 25, 'city': 'New york'}\n"
     ]
    }
   ],
   "source": [
    "for k in keysToRemove:\n",
    "    if k in sampleDict:\n",
    "        sampleDict.pop(k)\n",
    "print(sampleDict)"
   ]
  },
  {
   "cell_type": "markdown",
   "id": "d5a2d2b9",
   "metadata": {},
   "source": [
    "# 5. display all the keys with value 200 from the following dictionary.\n",
    "    sampleDict = {'a': 100, 'b': 200, 'c': 300,’d’:200}"
   ]
  },
  {
   "cell_type": "code",
   "execution_count": 20,
   "id": "3ea99c17",
   "metadata": {},
   "outputs": [],
   "source": [
    "sampleDict = {'a': 100, 'b': 200, 'c': 300, 'd':200}"
   ]
  },
  {
   "cell_type": "code",
   "execution_count": 21,
   "id": "a26c40ff",
   "metadata": {},
   "outputs": [
    {
     "name": "stdout",
     "output_type": "stream",
     "text": [
      "b\n",
      "d\n"
     ]
    }
   ],
   "source": [
    "for k, v in sampleDict.items():\n",
    "    if v==200:\n",
    "        print(k)"
   ]
  },
  {
   "cell_type": "markdown",
   "id": "1bd4cac0",
   "metadata": {},
   "source": [
    "# 6. Rename key city to location in the following dictionary\n",
    "    sampleDict = {\n",
    "    \"name\": \"Kelly\",\n",
    "    \"age\":25,\n",
    "    \"salary\": 8000,\n",
    "    \"city\": \"New york\"\n",
    "    }\n",
    "    Expected output:\n",
    "    {\n",
    "    \"name\": \"Kelly\",\n",
    "    \"age\":25,\n",
    "    \"salary\": 8000,\n",
    "    \"location\": \"New york\"\n",
    "    }"
   ]
  },
  {
   "cell_type": "code",
   "execution_count": 22,
   "id": "a1344ec3",
   "metadata": {},
   "outputs": [],
   "source": [
    "sampleDict = {\n",
    "    \"name\": \"Kelly\",\n",
    "    \"age\":25,\n",
    "    \"salary\": 8000,\n",
    "    \"city\": \"New york\"\n",
    "}"
   ]
  },
  {
   "cell_type": "code",
   "execution_count": 27,
   "id": "9c8020b5",
   "metadata": {},
   "outputs": [
    {
     "data": {
      "text/plain": [
       "'New york'"
      ]
     },
     "execution_count": 27,
     "metadata": {},
     "output_type": "execute_result"
    }
   ],
   "source": [
    "sampleDict.setdefault(\"location\", sampleDict.get(\"city\"))"
   ]
  },
  {
   "cell_type": "code",
   "execution_count": 28,
   "id": "f88ff52d",
   "metadata": {},
   "outputs": [
    {
     "data": {
      "text/plain": [
       "'New york'"
      ]
     },
     "execution_count": 28,
     "metadata": {},
     "output_type": "execute_result"
    }
   ],
   "source": [
    "sampleDict.pop(\"city\")"
   ]
  },
  {
   "cell_type": "code",
   "execution_count": 29,
   "id": "69ed0942",
   "metadata": {},
   "outputs": [
    {
     "name": "stdout",
     "output_type": "stream",
     "text": [
      "{'name': 'Kelly', 'age': 25, 'salary': 8000, 'location': 'New york'}\n"
     ]
    }
   ],
   "source": [
    "print(sampleDict)"
   ]
  },
  {
   "cell_type": "markdown",
   "id": "62eb440b",
   "metadata": {},
   "source": [
    "# 7. display the key of a maximum value from the following dictionary\n",
    "    sampleDict = {\n",
    "    'Physics': 82,\n",
    "    'Math': 65,\n",
    "    'history': 75}"
   ]
  },
  {
   "cell_type": "code",
   "execution_count": 38,
   "id": "8b14dff8",
   "metadata": {},
   "outputs": [
    {
     "name": "stdout",
     "output_type": "stream",
     "text": [
      "{'Physics'}\n"
     ]
    }
   ],
   "source": [
    "sampleDict = {\n",
    "    'Physics': 82,\n",
    "    'Math': 65,\n",
    "    'history': 75\n",
    "}\n",
    "key = {k for k in sampleDict if sampleDict[k]==max(sampleDict.values())}\n",
    "print(key)"
   ]
  },
  {
   "cell_type": "markdown",
   "id": "af65a5cc",
   "metadata": {},
   "source": [
    "# 8. Accept name and new salary for a employee, modify salary of the employee. display appropriate message if salary modified. or if name not found.\n",
    "    note : the new salary should be > current salary otherwise show message wrong salary.\n",
    "        sampleDict = {\n",
    "        'emp1': {'name': 'Jhon', 'salary': 7500},\n",
    "        'emp2': {'name': 'Emma', 'salary': 8000},\n",
    "        'emp3': {'name': 'Brad', 'salary': 6500}\n",
    "        }"
   ]
  },
  {
   "cell_type": "code",
   "execution_count": 39,
   "id": "1566ff4a",
   "metadata": {},
   "outputs": [],
   "source": [
    "sampleDict = {\n",
    "                'emp1': {'name': 'Jhon', 'salary': 7500},\n",
    "                'emp2': {'name': 'Emma', 'salary': 8000},\n",
    "                'emp3': {'name': 'Brad', 'salary': 6500}\n",
    "            }"
   ]
  },
  {
   "cell_type": "code",
   "execution_count": 40,
   "id": "016e288f",
   "metadata": {},
   "outputs": [
    {
     "name": "stdout",
     "output_type": "stream",
     "text": [
      "Enter name of Employee : Jhon\n",
      "Enter new Salary : 9000\n"
     ]
    }
   ],
   "source": [
    "name, sal = input(\"Enter name of Employee : \"), int(input(\"Enter new Salary : \"))"
   ]
  },
  {
   "cell_type": "code",
   "execution_count": 44,
   "id": "2079c3c3",
   "metadata": {},
   "outputs": [],
   "source": [
    "for k in sampleDict:\n",
    "    for v in k:\n",
    "        if name in v:\n",
    "            if v[\"salary\"]<sal:\n",
    "                v[\"salary\"] = sal\n",
    "            else:\n",
    "                print(\"wrong salary\")"
   ]
  },
  {
   "cell_type": "code",
   "execution_count": 43,
   "id": "37df53eb",
   "metadata": {},
   "outputs": [
    {
     "name": "stdout",
     "output_type": "stream",
     "text": [
      "{'emp1': {'name': 'Jhon', 'salary': 7500}, 'emp2': {'name': 'Emma', 'salary': 8000}, 'emp3': {'name': 'Brad', 'salary': 6500}}\n"
     ]
    }
   ],
   "source": [
    "print(sampleDict)"
   ]
  },
  {
   "cell_type": "code",
   "execution_count": null,
   "id": "51e5acb1",
   "metadata": {},
   "outputs": [],
   "source": []
  }
 ],
 "metadata": {
  "kernelspec": {
   "display_name": "Python 3 (ipykernel)",
   "language": "python",
   "name": "python3"
  },
  "language_info": {
   "codemirror_mode": {
    "name": "ipython",
    "version": 3
   },
   "file_extension": ".py",
   "mimetype": "text/x-python",
   "name": "python",
   "nbconvert_exporter": "python",
   "pygments_lexer": "ipython3",
   "version": "3.10.6"
  }
 },
 "nbformat": 4,
 "nbformat_minor": 5
}
