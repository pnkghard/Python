{
 "cells": [
  {
   "cell_type": "markdown",
   "id": "a858dec9",
   "metadata": {},
   "source": [
    "# 1. Given a string of odd length greater than 7, return a new string made of the middle three characters of a given String"
   ]
  },
  {
   "cell_type": "markdown",
   "id": "ff5b5826",
   "metadata": {},
   "source": [
    "    Given:\n",
    "        str1 = \"RakeshzipPetabb\"\n",
    "        Output : zip\n",
    "        str2 = \"JazzbonAyxx\"\n",
    "        Output : bon"
   ]
  },
  {
   "cell_type": "code",
   "execution_count": 15,
   "id": "3e654e05",
   "metadata": {},
   "outputs": [
    {
     "name": "stdout",
     "output_type": "stream",
     "text": [
      "Enter String : JazzbonAyxx\n"
     ]
    }
   ],
   "source": [
    "str = input(\"Enter String : \")"
   ]
  },
  {
   "cell_type": "code",
   "execution_count": 16,
   "id": "9a4edf0e",
   "metadata": {},
   "outputs": [
    {
     "data": {
      "text/plain": [
       "5"
      ]
     },
     "execution_count": 16,
     "metadata": {},
     "output_type": "execute_result"
    }
   ],
   "source": [
    "size = int(len(str)/2)\n",
    "size"
   ]
  },
  {
   "cell_type": "code",
   "execution_count": 17,
   "id": "a1f440a4",
   "metadata": {},
   "outputs": [
    {
     "name": "stdout",
     "output_type": "stream",
     "text": [
      "bon\n"
     ]
    }
   ],
   "source": [
    "newstr = str[size-1:size+2]\n",
    "print(newstr)"
   ]
  },
  {
   "cell_type": "markdown",
   "id": "c48eb5f5",
   "metadata": {},
   "source": [
    "# 2. Given two strings, s1 and s2, create a new string by appending s2 in the middle of s1"
   ]
  },
  {
   "cell_type": "markdown",
   "id": "6c1a209a",
   "metadata": {},
   "source": [
    "    Given:\n",
    "        s1 = \"Ault\"\n",
    "        s2 = \"Kelly\"\n",
    "    Expected Output:\n",
    "        AuKellylt"
   ]
  },
  {
   "cell_type": "code",
   "execution_count": 24,
   "id": "42b708a1",
   "metadata": {},
   "outputs": [],
   "source": [
    "s1 = \"Ault\"\n",
    "s2 = \"Kelly\""
   ]
  },
  {
   "cell_type": "code",
   "execution_count": 25,
   "id": "c9a22ac1",
   "metadata": {},
   "outputs": [],
   "source": [
    "ss1 = int(len(s1)/2)"
   ]
  },
  {
   "cell_type": "code",
   "execution_count": 26,
   "id": "35bc099e",
   "metadata": {},
   "outputs": [
    {
     "name": "stdout",
     "output_type": "stream",
     "text": [
      "AuKellylt\n"
     ]
    }
   ],
   "source": [
    "print(f\"{s1[:ss1]}{s2}{s1[ss1:]}\")"
   ]
  },
  {
   "cell_type": "markdown",
   "id": "1c45f606",
   "metadata": {},
   "source": [
    "# 3. two strings, s1, and s2 return a new string made of the first, middle, and last characters each input string"
   ]
  },
  {
   "cell_type": "markdown",
   "id": "43f15f41",
   "metadata": {},
   "source": [
    "    Given:\n",
    "        s1 = \"America\"\n",
    "        s2 = \"Japan\"\n",
    "    Expected Output:\n",
    "        AJrpan"
   ]
  },
  {
   "cell_type": "code",
   "execution_count": 2,
   "id": "4989a6d0",
   "metadata": {},
   "outputs": [],
   "source": [
    "s1 = \"America\"\n",
    "s2 = \"Japan\""
   ]
  },
  {
   "cell_type": "code",
   "execution_count": 3,
   "id": "c5602b7a",
   "metadata": {},
   "outputs": [],
   "source": [
    "ss1 = int(len(s1))\n",
    "ss2 = int(len(s2))"
   ]
  },
  {
   "cell_type": "code",
   "execution_count": 10,
   "id": "8f5d4d8b",
   "metadata": {},
   "outputs": [
    {
     "name": "stdout",
     "output_type": "stream",
     "text": [
      "AJrpan\n"
     ]
    }
   ],
   "source": [
    "print(f\"{s1[0]}{s2[0]}{s1[int(ss1/2)]}{s2[int(ss2/2)]}{s1[ss1-1]}{s2[ss2-1]}\")"
   ]
  },
  {
   "cell_type": "markdown",
   "id": "ccbc009c",
   "metadata": {},
   "source": [
    "# 4. Given an input string with the combination of the lower and upper case arrange characters in such a way that all lowercase letters should come first."
   ]
  },
  {
   "cell_type": "code",
   "execution_count": 18,
   "id": "cdfe3699",
   "metadata": {},
   "outputs": [],
   "source": [
    "str1 = \"PytHONStudy\"\n",
    "import pandas as pd"
   ]
  },
  {
   "cell_type": "code",
   "execution_count": 27,
   "id": "dc8d461d",
   "metadata": {},
   "outputs": [
    {
     "name": "stdout",
     "output_type": "stream",
     "text": [
      "yttudyPHONS\n"
     ]
    }
   ],
   "source": [
    "lower = []\n",
    "upper = []\n",
    "for ch in str1:\n",
    "    if ch.islower():\n",
    "        lower.append(ch)\n",
    "    else :\n",
    "        upper.append(ch)\n",
    "char = ''.join(lower + upper)\n",
    "print(char)"
   ]
  },
  {
   "cell_type": "markdown",
   "id": "0826237c",
   "metadata": {},
   "source": [
    "# 5. create a third-string made of the first char of s1 then the last char of s2, Next, the second char of s1 and second last char of s2, and so on. Any leftover chars go at the end of the result.\n",
    "    Given:\n",
    "        s1 = \"Abc\"\n",
    "        s2 = \"Xyz\"\n",
    "    Expected Output:\n",
    "        AzbycX"
   ]
  },
  {
   "cell_type": "code",
   "execution_count": 1,
   "id": "179476ae",
   "metadata": {},
   "outputs": [],
   "source": [
    "s1 = \"Abc\"\n",
    "s2 = \"Xyz\""
   ]
  },
  {
   "cell_type": "code",
   "execution_count": 5,
   "id": "1267b116",
   "metadata": {},
   "outputs": [
    {
     "name": "stdout",
     "output_type": "stream",
     "text": [
      "['A', 'z', 'b', 'y', 'c', 'X']\n"
     ]
    }
   ],
   "source": [
    "x = []\n",
    "y = []\n",
    "for i in range(len(s1)):\n",
    "    x.append(s1[i])\n",
    "    x.append(s2[len(s2)-1-i])\n",
    "print(x)"
   ]
  },
  {
   "cell_type": "code",
   "execution_count": 6,
   "id": "ec2f96ab",
   "metadata": {},
   "outputs": [
    {
     "name": "stdout",
     "output_type": "stream",
     "text": [
      "AzbycX\n"
     ]
    }
   ],
   "source": [
    "str = ''.join(x)\n",
    "print(str)"
   ]
  },
  {
   "cell_type": "markdown",
   "id": "a759538b",
   "metadata": {},
   "source": [
    "# 6. Find all occurrences of “USA” from right to left in a given string ignoring the case. also display the position\n",
    "    Given:\n",
    "        str1 = \"Welcome to USA. usa awesome, isn't it?"
   ]
  },
  {
   "cell_type": "code",
   "execution_count": 11,
   "id": "2f0c22cf",
   "metadata": {},
   "outputs": [],
   "source": [
    "str1 = \"Welcome to USA. usa awesome, isn't it?\""
   ]
  },
  {
   "cell_type": "code",
   "execution_count": 13,
   "id": "941b9f65",
   "metadata": {},
   "outputs": [
    {
     "name": "stdout",
     "output_type": "stream",
     "text": [
      "11\n"
     ]
    }
   ],
   "source": [
    "print(str1.find(\"USA\"))"
   ]
  },
  {
   "cell_type": "code",
   "execution_count": null,
   "id": "566f2471",
   "metadata": {},
   "outputs": [],
   "source": []
  }
 ],
 "metadata": {
  "kernelspec": {
   "display_name": "Python 3 (ipykernel)",
   "language": "python",
   "name": "python3"
  },
  "language_info": {
   "codemirror_mode": {
    "name": "ipython",
    "version": 3
   },
   "file_extension": ".py",
   "mimetype": "text/x-python",
   "name": "python",
   "nbconvert_exporter": "python",
   "pygments_lexer": "ipython3",
   "version": "3.9.13"
  }
 },
 "nbformat": 4,
 "nbformat_minor": 5
}
