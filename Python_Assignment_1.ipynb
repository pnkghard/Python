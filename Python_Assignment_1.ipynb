{
 "cells": [
  {
   "cell_type": "markdown",
   "id": "affc58fa",
   "metadata": {},
   "source": [
    "# 1. Write a python Program to multiply 2 matrix :"
   ]
  },
  {
   "cell_type": "code",
   "execution_count": 72,
   "id": "4e674b49",
   "metadata": {},
   "outputs": [
    {
     "name": "stdout",
     "output_type": "stream",
     "text": [
      "[[1 2 3]\n",
      " [2 7 8]]\n",
      "[[1 3]\n",
      " [9 8]\n",
      " [2 6]]\n"
     ]
    }
   ],
   "source": [
    "import numpy as np\n",
    "A = np.array([[1,2,3], [2,7,8]])\n",
    "B = np.array([[1,3], [9,8], [2,6]])\n",
    "print(A)\n",
    "print(B)"
   ]
  },
  {
   "cell_type": "code",
   "execution_count": 73,
   "id": "96230ddc",
   "metadata": {},
   "outputs": [
    {
     "name": "stdout",
     "output_type": "stream",
     "text": [
      "[[ 25  37]\n",
      " [ 81 110]]\n"
     ]
    }
   ],
   "source": [
    "AxB = np.dot(A,B)\n",
    "print(AxB)"
   ]
  },
  {
   "cell_type": "markdown",
   "id": "b4b0fc1e",
   "metadata": {},
   "source": [
    "# 2. Write a python program to perform following operation on matrix :"
   ]
  },
  {
   "cell_type": "markdown",
   "id": "08bf999c",
   "metadata": {},
   "source": [
    "    a. Swap rows R1<-> R2\n",
    "    b. Multiply R1 by 5. R1 -> R1*5\n",
    "    c. Subtract row R3 from R1. R1->R1-R3"
   ]
  },
  {
   "cell_type": "code",
   "execution_count": 93,
   "id": "d01915ed",
   "metadata": {},
   "outputs": [
    {
     "name": "stdout",
     "output_type": "stream",
     "text": [
      "[[1 2 9]\n",
      " [0 3 3]\n",
      " [8 2 5]]\n"
     ]
    }
   ],
   "source": [
    "C = np.array([[1,2,9], [0,3,3], [8,2,5]])\n",
    "print(C)"
   ]
  },
  {
   "cell_type": "code",
   "execution_count": 94,
   "id": "b4ffd3db",
   "metadata": {},
   "outputs": [
    {
     "name": "stdout",
     "output_type": "stream",
     "text": [
      "[[0 3 3]\n",
      " [1 2 9]\n",
      " [8 2 5]]\n"
     ]
    }
   ],
   "source": [
    "#Swap rows R1<-> R2\n",
    "C[[0,1],:] = C[[1,0], :]\n",
    "print(C)"
   ]
  },
  {
   "cell_type": "code",
   "execution_count": 95,
   "id": "296bbadc",
   "metadata": {},
   "outputs": [
    {
     "name": "stdout",
     "output_type": "stream",
     "text": [
      "[[ 0 15 15]\n",
      " [ 1  2  9]\n",
      " [ 8  2  5]]\n"
     ]
    }
   ],
   "source": [
    "#Multiply R1 by 5. R1 -> R1*5\n",
    "C[0] = 5*C[0]\n",
    "print(C)"
   ]
  },
  {
   "cell_type": "code",
   "execution_count": 96,
   "id": "90b64e6e",
   "metadata": {},
   "outputs": [
    {
     "name": "stdout",
     "output_type": "stream",
     "text": [
      "[[-8 13 10]\n",
      " [ 1  2  9]\n",
      " [ 8  2  5]]\n"
     ]
    }
   ],
   "source": [
    "#Subtract row R3 from R1. R1->R1-R3\n",
    "C[0] = C[0] - C[2]\n",
    "print(C)"
   ]
  },
  {
   "cell_type": "markdown",
   "id": "1cb0f053",
   "metadata": {},
   "source": [
    "# 3. Write a python program to get Target matrix using matrix A by performing matrix row operation:"
   ]
  },
  {
   "cell_type": "code",
   "execution_count": 305,
   "id": "5e3e1347",
   "metadata": {},
   "outputs": [
    {
     "name": "stdout",
     "output_type": "stream",
     "text": [
      "[[  1   6   9]\n",
      " [-20   3  -3]\n",
      " [  8 -13   5]]\n"
     ]
    }
   ],
   "source": [
    "D = np.array([[1,6,9], [-20,3,-3], [8,-13,5]])\n",
    "print(D)"
   ]
  },
  {
   "cell_type": "code",
   "execution_count": 306,
   "id": "4e5dd919",
   "metadata": {},
   "outputs": [
    {
     "name": "stdout",
     "output_type": "stream",
     "text": [
      "[[ 1  6  3]\n",
      " [ 0  1 42]\n",
      " [ 0  0  1]]\n"
     ]
    }
   ],
   "source": [
    "D[1] = D[1] + 20*D[0]\n",
    "D[2] = D[2] - 8*D[0]\n",
    "D[1] = D[1] + 2*D[2]\n",
    "D[:,2] = D[:,2] - D[:,1]\n",
    "D[2] = D[2] + 61*D[1]\n",
    "D[2] = D[2]/2556\n",
    "print(D)"
   ]
  },
  {
   "cell_type": "markdown",
   "id": "17ac3032",
   "metadata": {},
   "source": [
    "# 4. Write a python program to calculate value of series till 11th term in series"
   ]
  },
  {
   "cell_type": "code",
   "execution_count": 128,
   "id": "c5ac4cc1",
   "metadata": {},
   "outputs": [
    {
     "name": "stdout",
     "output_type": "stream",
     "text": [
      "Y : \n",
      " [1.0, 0.3333333333333333, 0.1111111111111111, 0.037037037037037035, 0.012345679012345678, 0.00411522633744856, 0.0013717421124828531, 0.0004572473708276177, 0.00015241579027587258, 5.080526342529086e-05, 1.6935087808430286e-05, 5.645029269476762e-06]\n",
      "\n",
      "Summition :  1.4999971774853655\n"
     ]
    }
   ],
   "source": [
    "# let value of x is 3\n",
    "x = 3\n",
    "y = [1/(x**n) for n in range(12)]\n",
    "print(\"Y : \\n\",y)\n",
    "print()\n",
    "print(\"Summition : \",sum(y))"
   ]
  },
  {
   "cell_type": "markdown",
   "id": "13d6e669",
   "metadata": {},
   "source": [
    "# 5. Write a python program to print a graph for a following equation\n",
    "        Y=sin3x + cos(x*x) + 5"
   ]
  },
  {
   "cell_type": "code",
   "execution_count": 164,
   "id": "2c411e2c",
   "metadata": {},
   "outputs": [],
   "source": [
    "from scipy.interpolate import make_interp_spline\n",
    "import matplotlib.pyplot as plt\n",
    "import numpy as np"
   ]
  },
  {
   "cell_type": "code",
   "execution_count": 178,
   "id": "100c96d5",
   "metadata": {},
   "outputs": [],
   "source": [
    "# let x is from 0 to 10\n",
    "X = np.arange(11)\n",
    "Y = [(np.sin(3*x) + np.cos(x*x) + 5) for x in X]"
   ]
  },
  {
   "cell_type": "code",
   "execution_count": 182,
   "id": "94b0ec0f",
   "metadata": {},
   "outputs": [],
   "source": [
    "line = make_interp_spline(X, Y)"
   ]
  },
  {
   "cell_type": "code",
   "execution_count": 187,
   "id": "395628ec",
   "metadata": {},
   "outputs": [],
   "source": [
    "x = np.linspace(X.min(), X.max(), 500)\n",
    "y = line(x)"
   ]
  },
  {
   "cell_type": "code",
   "execution_count": 193,
   "id": "124f1c68",
   "metadata": {},
   "outputs": [
    {
     "data": {
      "image/png": "[encoded data removed]",
      "text/plain": [
       "<Figure size 640x480 with 1 Axes>"
      ]
     },
     "metadata": {},
     "output_type": "display_data"
    }
   ],
   "source": [
    "plt.subplot()\n",
    "plt.plot(x, y, linewidth=2.0)\n",
    "plt.xlabel('X')\n",
    "plt.ylabel('Y')\n",
    "plt.title('X VS Y')\n",
    "plt.grid()\n",
    "plt.show()"
   ]
  },
  {
   "cell_type": "code",
   "execution_count": null,
   "id": "49c334c2",
   "metadata": {},
   "outputs": [],
   "source": []
  }
 ],
 "metadata": {
  "kernelspec": {
   "display_name": "Python 3 (ipykernel)",
   "language": "python",
   "name": "python3"
  },
  "language_info": {
   "codemirror_mode": {
    "name": "ipython",
    "version": 3
   },
   "file_extension": ".py",
   "mimetype": "text/x-python",
   "name": "python",
   "nbconvert_exporter": "python",
   "pygments_lexer": "ipython3",
   "version": "3.9.13"
  }
 },
 "nbformat": 4,
 "nbformat_minor": 5
}
