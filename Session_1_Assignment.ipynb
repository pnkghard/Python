{
 "cells": [
  {
   "cell_type": "markdown",
   "id": "e5d8488c",
   "metadata": {},
   "source": [
    "# 1. Write a program that asks the user how many days are in a particular month, and what day of the week the month begins on (0 for Monday, 1 for Tuesday, etc), and then prints a calendar for that month. For example, here is the output for a 30-day month that begins on day 4 (Thursday):"
   ]
  },
  {
   "cell_type": "markdown",
   "id": "b310d843",
   "metadata": {},
   "source": [
    "        S  M  T  W  T  F  S\n",
    "                    1  2  3\n",
    "        4  5  6  7  8  9  10\n",
    "        11 12 13 14 15 16 17\n",
    "        17 19 20 21 22 23 24\n",
    "        25 26 27 28 29 30"
   ]
  },
  {
   "cell_type": "code",
   "execution_count": 36,
   "id": "bdb96f07",
   "metadata": {},
   "outputs": [
    {
     "name": "stdout",
     "output_type": "stream",
     "text": [
      "Number of Days : 30\n",
      "Start date of month : 4\n"
     ]
    }
   ],
   "source": [
    "import numpy as np\n",
    "days = int(input(\"Number of Days : \"))\n",
    "day = int(input(\"Start date of month : \"))\n",
    "w = [\"S\", \"M\", \"T\", \"W\", \"T\", \"F\", \"S\"]"
   ]
  },
  {
   "cell_type": "code",
   "execution_count": 37,
   "id": "cebf3a43",
   "metadata": {},
   "outputs": [
    {
     "name": "stdout",
     "output_type": "stream",
     "text": [
      "S\tM\tT\tW\tT\tF\tS\t\n",
      "\t\t\t\t1\t2\t3\t\n",
      "4\t5\t6\t7\t8\t9\t10\t\n",
      "11\t12\t13\t14\t15\t16\t17\t\n",
      "18\t19\t20\t21\t22\t23\t24\t\n",
      "25\t26\t27\t28\t29\t30\t"
     ]
    }
   ],
   "source": [
    "for i in w:\n",
    "    print(i, end=\"\\t\")\n",
    "print()\n",
    "temp = 0\n",
    "for one in range(1, days+1):\n",
    "    if one<=day:\n",
    "        print(end=\"\\t\")\n",
    "        temp += 1\n",
    "    else:\n",
    "        break\n",
    "temp -= 1\n",
    "for one in range(1, days+1):\n",
    "    temp += 1\n",
    "    if temp>=len(w):\n",
    "        print()\n",
    "        temp = 0\n",
    "    print(one, end=\"\\t\")    "
   ]
  },
  {
   "cell_type": "code",
   "execution_count": null,
   "id": "aba18e07",
   "metadata": {},
   "outputs": [],
   "source": []
  }
 ],
 "metadata": {
  "kernelspec": {
   "display_name": "Python 3 (ipykernel)",
   "language": "python",
   "name": "python3"
  },
  "language_info": {
   "codemirror_mode": {
    "name": "ipython",
    "version": 3
   },
   "file_extension": ".py",
   "mimetype": "text/x-python",
   "name": "python",
   "nbconvert_exporter": "python",
   "pygments_lexer": "ipython3",
   "version": "3.9.13"
  }
 },
 "nbformat": 4,
 "nbformat_minor": 5
}
