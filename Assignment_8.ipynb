{
 "cells": [
  {
   "cell_type": "markdown",
   "id": "4a395507",
   "metadata": {},
   "source": [
    "# Create classes to store information of 10 students"
   ]
  },
  {
   "cell_type": "markdown",
   "id": "d8aa8c34",
   "metadata": {},
   "source": [
    "    Students are of 2 types phdstudent and MSC student\n",
    "        For phdstudent store id,name,m1,m2,m3, thesissubject,grade\n",
    "        For MSCStudent store id,name,m1,m2,m3,specialsubject,m4\n",
    "    Calculate percentage by using following formula\n",
    "        For phdstudent\n",
    "        (M1+m2+m3+grade*10)/5\n",
    "        For MSC student\n",
    "        (M1+m2+m3+m4)/4"
   ]
  },
  {
   "cell_type": "code",
   "execution_count": 1,
   "id": "ea4a7155",
   "metadata": {},
   "outputs": [],
   "source": [
    "class Student:\n",
    "    #construction\n",
    "    def __init__(self, name=\"\", pid=0, m1=0, m2=0, m3=0):\n",
    "        self.__name = name\n",
    "        self.__pid = pid\n",
    "        self.__m1 = m1\n",
    "        self.__m2 = m2\n",
    "        self.__m3 = m3\n",
    "    \n",
    "    #default print function\n",
    "    def __str__(self):\n",
    "        return f\"ID : {self.__pid} \\nName : {self.__name} \\nM1 : {self.__m1} \\nM2 : {self.__m2} \\nM3 : {self.__m3}\"\n",
    "    \n",
    "    #setter\n",
    "    def set_Id(self, pid):\n",
    "        self.__pid = pid\n",
    "    def set_Name(self, name):\n",
    "        self.__name = name\n",
    "    def set_M1(self, m1):\n",
    "        self.__m1 = m1\n",
    "    def set_M2(self, m2):\n",
    "        self.__m2 = m2\n",
    "    def set_M3(self, m3):\n",
    "        self.__m3 = m3\n",
    "    \n",
    "    #getter\n",
    "    def get_Id(self):\n",
    "        return self.__pid\n",
    "    def get_Name(self):\n",
    "        return self.__name\n",
    "    def get_M1(self):\n",
    "        return self.__m1\n",
    "    def get_M2(self):\n",
    "        return self.__m2\n",
    "    def get_M3(self):\n",
    "        return self.__m3"
   ]
  },
  {
   "cell_type": "markdown",
   "id": "a0eb1536",
   "metadata": {},
   "source": [
    "    classes using inheritance"
   ]
  },
  {
   "cell_type": "code",
   "execution_count": 2,
   "id": "2daf09aa",
   "metadata": {},
   "outputs": [],
   "source": [
    "class PhdStudent(Student):\n",
    "    #constructor\n",
    "    def __init__(self, name=\"\", pid=0, m1=0, m2=0, m3=0, ths=\"\", gd=0):\n",
    "        super().__init__(name, pid, m1, m2, m3)\n",
    "        self.__ths = ths\n",
    "        self.__gd = gd\n",
    "    #default print function\n",
    "    def __str__(self):\n",
    "        return super().__str__()+f\"\\nThesis : {self.__ths} \\nGrade : {self.__gd}\"\n",
    "    \n",
    "    #setter\n",
    "    def set_subject(self, ths):\n",
    "        self.__ths = ths\n",
    "    def set_gd(self, gd):\n",
    "        self.__gd = gd\n",
    "    \n",
    "    #getter\n",
    "    def get_subject(self):\n",
    "        return self.__ths\n",
    "    def get_gd(self):\n",
    "        return self.__gd\n",
    "    \n",
    "    # Percentage calculation\n",
    "    def cal_Percent(self):\n",
    "        p = (super().get_M1() + super().get_M2() + super().get_M3() + (self.__gd*10))//5\n",
    "        return p"
   ]
  },
  {
   "cell_type": "code",
   "execution_count": 3,
   "id": "de0a4ecb",
   "metadata": {},
   "outputs": [],
   "source": [
    "class MScStudent(Student):\n",
    "    #constructor\n",
    "    def __init__(self, name=\"\", pid=0, m1=0, m2=0, m3=0, spsub=\"\", m4=0):\n",
    "        super().__init__(name, pid, m1, m2, m3)\n",
    "        self.__spsub = spsub\n",
    "        self.__m4 = m4\n",
    "    #default print function\n",
    "    def __str__(self):\n",
    "        return super().__str__()+f\"\\nSubject : {self.__spsub} \\nM4 : {self.__m4}\"\n",
    "    \n",
    "    #setter\n",
    "    def set_subject(self, spsub):\n",
    "        self.__spsub = spsub\n",
    "    def set_gd(self, m4):\n",
    "        self.__m4 = m4\n",
    "    \n",
    "    #getter\n",
    "    def get_subject(self):\n",
    "        return self.__spsub\n",
    "    def get_gd(self):\n",
    "        return self.__m4\n",
    "    \n",
    "    # Percentage calculation\n",
    "    def cal_Percent(self):\n",
    "        p = (super().get_M1() + super().get_M2() + super().get_M3() + self.__m4)//4\n",
    "        return p"
   ]
  },
  {
   "cell_type": "code",
   "execution_count": 4,
   "id": "ebe8b9e9",
   "metadata": {},
   "outputs": [],
   "source": [
    "std = []\n",
    "phd = PhdStudent()\n",
    "msc = MScStudent()"
   ]
  },
  {
   "cell_type": "markdown",
   "id": "26da9264",
   "metadata": {},
   "source": [
    "    do the following Operations :\n",
    "        1. Add new student\n",
    "        2. Modify special subject of msc student\n",
    "        3. Calculate percentage of a student\n",
    "        4. Display all\n",
    "        5. Exit"
   ]
  },
  {
   "cell_type": "code",
   "execution_count": 5,
   "id": "190cdd7b",
   "metadata": {},
   "outputs": [],
   "source": [
    "def addStudent():\n",
    "    c = input(\"\"\"\n",
    "                p for Phd Student\n",
    "                m for Msc Student\n",
    "                \n",
    "            Enter Course : \n",
    "              \"\"\")\n",
    "    if c=='p':\n",
    "        #name=\"\", pid=0, m1=0, m2=0, m3=0, ths=\"\", gd=0\n",
    "        std.append(PhdStudent(input(\"Name : \"), int(input(\"ID : \")), int(input(\"M1 : \")), int(input(\"M2 : \")),\n",
    "                              int(input(\"M3 : \")), input(\"Thesis : \"), int(input(\"Grade : \"))))\n",
    "        print(\"Student data added successfully......\")\n",
    "    elif c=='m':\n",
    "        #name=\"\", pid=0, m1=0, m2=0, m3=0, spsub=\"\", m4=0\n",
    "        std.append(MScStudent(input(\"Name : \"), int(input(\"ID : \")), int(input(\"M1 : \")), int(input(\"M2 : \")),\n",
    "                              int(input(\"M3 : \")), input(\"Special Subject : \"), int(input(\"M4 : \"))))\n",
    "        print(\"Student data added successfully......\")\n",
    "    else:\n",
    "        print(\"wring course try next time....\")"
   ]
  },
  {
   "cell_type": "code",
   "execution_count": 6,
   "id": "548ddc93",
   "metadata": {},
   "outputs": [],
   "source": [
    "def subjectMod():\n",
    "    name = input(\"Enter name of Student : \")\n",
    "    for s in std:\n",
    "        if s.get_Name()==name:\n",
    "            s.set_subject(input(\"Enter new subject : \"))\n",
    "    else:\n",
    "        print(f\"Studen {name} not found\")"
   ]
  },
  {
   "cell_type": "code",
   "execution_count": 7,
   "id": "f1e526cd",
   "metadata": {},
   "outputs": [],
   "source": [
    "def percentage():\n",
    "    name = input(\"Enter name of student : \")\n",
    "    for s in std:\n",
    "        if s.get_Name()==name:\n",
    "            print(s.cal_Percent())\n",
    "            break\n",
    "    else:\n",
    "        print(f\"Studen {name} not found\")"
   ]
  },
  {
   "cell_type": "code",
   "execution_count": 8,
   "id": "abea88a6",
   "metadata": {},
   "outputs": [],
   "source": [
    "def display():\n",
    "    for s in std:\n",
    "        print(s)"
   ]
  },
  {
   "cell_type": "code",
   "execution_count": 9,
   "id": "ba012552",
   "metadata": {},
   "outputs": [
    {
     "name": "stdout",
     "output_type": "stream",
     "text": [
      "\n",
      "                  1. Add new student\n",
      "                  2. Modify special subject of msc student\n",
      "                  3. Calculate percentage of a student\n",
      "                  4. Display all\n",
      "                  5. Exit\n",
      "\n",
      "            Enter Choice : \n",
      "              5\n",
      "Logout successfully......\n"
     ]
    }
   ],
   "source": [
    "if __name__==\"__main__\":\n",
    "    ch = 0\n",
    "    while ch!=5:\n",
    "        ch = int(input(\"\"\"\n",
    "                  1. Add new student\n",
    "                  2. Modify special subject of msc student\n",
    "                  3. Calculate percentage of a student\n",
    "                  4. Display all\n",
    "                  5. Exit\n",
    "\n",
    "            Enter Choice : \n",
    "              \"\"\"))\n",
    "        if ch==1:\n",
    "            addStudent()\n",
    "        elif ch==2:\n",
    "            subjectMod()\n",
    "        elif ch==3:\n",
    "            percentage()\n",
    "        elif ch==4:\n",
    "            display()\n",
    "        else :\n",
    "            print(\"Logout successfully......\")"
   ]
  },
  {
   "cell_type": "code",
   "execution_count": null,
   "id": "2d13b897",
   "metadata": {},
   "outputs": [],
   "source": []
  },
  {
   "cell_type": "code",
   "execution_count": null,
   "id": "7f1f5bbb",
   "metadata": {},
   "outputs": [],
   "source": []
  }
 ],
 "metadata": {
  "kernelspec": {
   "display_name": "Python 3 (ipykernel)",
   "language": "python",
   "name": "python3"
  },
  "language_info": {
   "codemirror_mode": {
    "name": "ipython",
    "version": 3
   },
   "file_extension": ".py",
   "mimetype": "text/x-python",
   "name": "python",
   "nbconvert_exporter": "python",
   "pygments_lexer": "ipython3",
   "version": "3.9.13"
  }
 },
 "nbformat": 4,
 "nbformat_minor": 5
}
