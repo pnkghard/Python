{
 "cells": [
  {
   "cell_type": "markdown",
   "id": "593f5e25",
   "metadata": {},
   "source": [
    "Store yearwise sales of 2 dealers for tv, freeze, mobile, washing machine, ac and diswasher for years 2001 to 2010"
   ]
  },
  {
   "cell_type": "code",
   "execution_count": 2,
   "id": "db8f1a3b",
   "metadata": {},
   "outputs": [],
   "source": [
    "import numpy as np"
   ]
  },
  {
   "cell_type": "code",
   "execution_count": 3,
   "id": "3c1c8f83",
   "metadata": {},
   "outputs": [
    {
     "data": {
      "text/plain": [
       "array([[ 0,  1,  2,  3,  4,  5],\n",
       "       [ 6,  7,  8,  9, 10, 11],\n",
       "       [12, 13, 14, 15, 16, 17],\n",
       "       [18, 19, 20, 21, 22, 23],\n",
       "       [24, 25, 26, 27, 28, 29],\n",
       "       [30, 31, 32, 33, 34, 35],\n",
       "       [36, 37, 38, 39, 40, 41],\n",
       "       [42, 43, 44, 45, 46, 47],\n",
       "       [48, 49, 50, 51, 52, 53],\n",
       "       [54, 55, 56, 57, 58, 59]])"
      ]
     },
     "execution_count": 3,
     "metadata": {},
     "output_type": "execute_result"
    }
   ],
   "source": [
    "dealer_1 = np.arange(60).reshape(10, 6)\n",
    "dealer_1"
   ]
  },
  {
   "cell_type": "code",
   "execution_count": 4,
   "id": "cb02ea96",
   "metadata": {},
   "outputs": [
    {
     "data": {
      "text/plain": [
       "array([[ 60,  61,  62,  63,  64,  65],\n",
       "       [ 66,  67,  68,  69,  70,  71],\n",
       "       [ 72,  73,  74,  75,  76,  77],\n",
       "       [ 78,  79,  80,  81,  82,  83],\n",
       "       [ 84,  85,  86,  87,  88,  89],\n",
       "       [ 90,  91,  92,  93,  94,  95],\n",
       "       [ 96,  97,  98,  99, 100, 101],\n",
       "       [102, 103, 104, 105, 106, 107],\n",
       "       [108, 109, 110, 111, 112, 113],\n",
       "       [114, 115, 116, 117, 118, 119]])"
      ]
     },
     "execution_count": 4,
     "metadata": {},
     "output_type": "execute_result"
    }
   ],
   "source": [
    "dealer_2 = np.arange(60, 120).reshape(10, 6)\n",
    "dealer_2"
   ]
  },
  {
   "cell_type": "markdown",
   "id": "9cc8309e",
   "metadata": {},
   "source": [
    "find the year wise sale of each item by both the dealer"
   ]
  },
  {
   "cell_type": "code",
   "execution_count": 5,
   "id": "7cb16efa",
   "metadata": {},
   "outputs": [
    {
     "data": {
      "text/plain": [
       "array([2001, 2002, 2003, 2004, 2005, 2006, 2007, 2008, 2009, 2010])"
      ]
     },
     "execution_count": 5,
     "metadata": {},
     "output_type": "execute_result"
    }
   ],
   "source": [
    "years = np.arange(2001, 2011)\n",
    "years"
   ]
  },
  {
   "cell_type": "code",
   "execution_count": 6,
   "id": "a031e06f",
   "metadata": {},
   "outputs": [
    {
     "data": {
      "text/plain": [
       "['TV', 'Freeze', 'Mobile', 'Washing Machine', 'AC', 'Dishwasher']"
      ]
     },
     "execution_count": 6,
     "metadata": {},
     "output_type": "execute_result"
    }
   ],
   "source": [
    "item = [\"TV\", \"Freeze\", \"Mobile\", \"Washing Machine\", \"AC\", \"Dishwasher\"]\n",
    "item"
   ]
  },
  {
   "cell_type": "markdown",
   "id": "9de88dc2",
   "metadata": {},
   "source": [
    "yearwise sale of dealer 1"
   ]
  },
  {
   "cell_type": "code",
   "execution_count": 14,
   "id": "55ddda65",
   "metadata": {},
   "outputs": [
    {
     "name": "stdout",
     "output_type": "stream",
     "text": [
      "[[2001 2002 2003 2004 2005 2006 2007 2008 2009 2010]\n",
      " [  15   51   87  123  159  195  231  267  303  339]]\n"
     ]
    }
   ],
   "source": [
    "sum_1 = np.sum(dealer_1, axis=1)\n",
    "print(np.vstack((years, sum_1)))"
   ]
  },
  {
   "cell_type": "markdown",
   "id": "898734cc",
   "metadata": {},
   "source": [
    "yearwise sale of dealer 2"
   ]
  },
  {
   "cell_type": "code",
   "execution_count": 15,
   "id": "04b3ff79",
   "metadata": {},
   "outputs": [
    {
     "name": "stdout",
     "output_type": "stream",
     "text": [
      "[[2001 2002 2003 2004 2005 2006 2007 2008 2009 2010]\n",
      " [ 375  411  447  483  519  555  591  627  663  699]]\n"
     ]
    }
   ],
   "source": [
    "sum_1 = np.sum(dealer_2, axis=1)\n",
    "print(np.vstack((years, sum_1)))"
   ]
  },
  {
   "cell_type": "markdown",
   "id": "07bdb730",
   "metadata": {},
   "source": [
    "dealer 1 TV and freeze sale"
   ]
  },
  {
   "cell_type": "code",
   "execution_count": 18,
   "id": "bc2d768e",
   "metadata": {},
   "outputs": [
    {
     "name": "stdout",
     "output_type": "stream",
     "text": [
      "TV  Freeze\n",
      "270 280\n"
     ]
    }
   ],
   "source": [
    "print(\"TV \", \"Freeze\")\n",
    "print(np.sum(dealer_1[:,0]), np.sum(dealer_1[:,1]))"
   ]
  },
  {
   "cell_type": "markdown",
   "id": "c978a732",
   "metadata": {},
   "source": [
    "dealer 2 TV and freeze sale"
   ]
  },
  {
   "cell_type": "code",
   "execution_count": 19,
   "id": "97ea0481",
   "metadata": {},
   "outputs": [
    {
     "name": "stdout",
     "output_type": "stream",
     "text": [
      "TV  Freeze\n",
      "870 880\n"
     ]
    }
   ],
   "source": [
    "print(\"TV \", \"Freeze\")\n",
    "print(np.sum(dealer_2[:,0]), np.sum(dealer_2[:,1]))"
   ]
  },
  {
   "cell_type": "code",
   "execution_count": 26,
   "id": "d5b1bb48",
   "metadata": {},
   "outputs": [
    {
     "name": "stdout",
     "output_type": "stream",
     "text": [
      "{'TV': array([ 0,  6, 12, 18, 24, 30, 36, 42, 48, 54]), 'Freeze': array([ 1,  7, 13, 19, 25, 31, 37, 43, 49, 55]), 'Mobile': array([ 2,  8, 14, 20, 26, 32, 38, 44, 50, 56]), 'Washing Machine': array([ 3,  9, 15, 21, 27, 33, 39, 45, 51, 57]), 'AC': array([ 4, 10, 16, 22, 28, 34, 40, 46, 52, 58]), 'Dishwasher': array([ 5, 11, 17, 23, 29, 35, 41, 47, 53, 59])}\n"
     ]
    }
   ],
   "source": [
    "dic_1 = {\"TV\" : dealer_1[:,0], \"Freeze\" : dealer_1[:,1], \"Mobile\" : dealer_1[:,2],\n",
    "         \"Washing Machine\" : dealer_1[:,3], \"AC\" : dealer_1[:,4], \"Dishwasher\" : dealer_1[:,5]}\n",
    "print(dic_1)"
   ]
  },
  {
   "cell_type": "code",
   "execution_count": 27,
   "id": "2e4354de",
   "metadata": {},
   "outputs": [
    {
     "name": "stdout",
     "output_type": "stream",
     "text": [
      "{'TV': array([ 60,  66,  72,  78,  84,  90,  96, 102, 108, 114]), 'Freeze': array([ 61,  67,  73,  79,  85,  91,  97, 103, 109, 115]), 'Mobile': array([ 62,  68,  74,  80,  86,  92,  98, 104, 110, 116]), 'Washing Machine': array([ 63,  69,  75,  81,  87,  93,  99, 105, 111, 117]), 'AC': array([ 64,  70,  76,  82,  88,  94, 100, 106, 112, 118]), 'Dishwasher': array([ 65,  71,  77,  83,  89,  95, 101, 107, 113, 119])}\n"
     ]
    }
   ],
   "source": [
    "dic_2 = {\"TV\" : dealer_2[:,0], \"Freeze\" : dealer_2[:,1], \"Mobile\" : dealer_2[:,2],\n",
    "         \"Washing Machine\" : dealer_2[:,3], \"AC\" : dealer_2[:,4], \"Dishwasher\" : dealer_2[:,5]}\n",
    "print(dic_2)"
   ]
  },
  {
   "cell_type": "code",
   "execution_count": 28,
   "id": "a83b9537",
   "metadata": {},
   "outputs": [
    {
     "data": {
      "text/plain": [
       "array([ 0,  6, 12, 18, 24, 30, 36, 42, 48, 54])"
      ]
     },
     "execution_count": 28,
     "metadata": {},
     "output_type": "execute_result"
    }
   ],
   "source": [
    "dic_1[\"TV\"]"
   ]
  },
  {
   "cell_type": "code",
   "execution_count": null,
   "id": "12e45ac9",
   "metadata": {},
   "outputs": [],
   "source": []
  }
 ],
 "metadata": {
  "kernelspec": {
   "display_name": "Python 3 (ipykernel)",
   "language": "python",
   "name": "python3"
  },
  "language_info": {
   "codemirror_mode": {
    "name": "ipython",
    "version": 3
   },
   "file_extension": ".py",
   "mimetype": "text/x-python",
   "name": "python",
   "nbconvert_exporter": "python",
   "pygments_lexer": "ipython3",
   "version": "3.10.6"
  }
 },
 "nbformat": 4,
 "nbformat_minor": 5
}
