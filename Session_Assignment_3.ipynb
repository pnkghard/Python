{
 "cells": [
  {
   "cell_type": "markdown",
   "id": "16521156",
   "metadata": {},
   "source": [
    "# In cryptography, a Caesar cipher is a very simple encryption techniques in which each letter in the plain text is replaced by a letter some fixed number of positions down the alphabet. For example, with a shift of 3, A would be replaced by D, B would become E, and so on. The method is named after Julius Caesar, who used it to communicate with his generals. ROT-13 (\"rotate by 13 places\") is a widely used example of a Caesar cipher where the shift is 13. In Python, the key for ROT-13 may be represented by means of the following dictionary:"
   ]
  },
  {
   "cell_type": "markdown",
   "id": "2f9da2d0",
   "metadata": {},
   "source": [
    "key = {'a':'n', 'b':'o', 'c':'p', 'd':'q', 'e':'r', 'f':'s', 'g':'t', 'h':'u', 'i':'v', 'j':'w', 'k':'x', 'l':'y', 'm':'z', 'n':'a', 'o':'b',\n",
    "'p':'c', 'q':'d', 'r':'e', 's':'f', 't':'g', 'u':'h', 'v':'i', 'w':'j', 'x':'k', 'y':'l', 'z':'m', 'A':'N', 'B':'O', 'C':'P', 'D':'Q', 'E':'R',\n",
    "'F':'S', 'G':'T', 'H':'U', 'I':'V', 'J':'W', 'K':'X', 'L':'Y','M':'Z','N':'A', 'O':'B', 'P':'C', 'Q':'D', 'R':'E', 'S':'F', 'T':'G', 'U':'H', 'V':'I', 'W':'J', 'X':'K', 'Y':'L','Z':'M'}"
   ]
  },
  {
   "cell_type": "code",
   "execution_count": 1,
   "id": "a4019d95",
   "metadata": {},
   "outputs": [],
   "source": [
    "key = {'a':'n', 'b':'o', 'c':'p', 'd':'q', 'e':'r', 'f':'s', 'g':'t',\n",
    "       'h':'u', 'i':'v', 'j':'w', 'k':'x', 'l':'y', 'm':'z', 'n':'a',\n",
    "       'o':'b', 'p':'c', 'q':'d', 'r':'e', 's':'f', 't':'g', 'u':'h',\n",
    "       'v':'i', 'w':'j', 'x':'k', 'y':'l', 'z':'m', 'A':'N', 'B':'O',\n",
    "       'C':'P', 'D':'Q', 'E':'R', 'F':'S', 'G':'T', 'H':'U', 'I':'V',\n",
    "       'J':'W', 'K':'X', 'L':'Y','M':'Z','N':'A', 'O':'B', 'P':'C', \n",
    "       'Q':'D', 'R':'E', 'S':'F', 'T':'G', 'U':'H', 'V':'I', 'W':'J', 'X':'K', 'Y':'L','Z':'M'}"
   ]
  },
  {
   "cell_type": "code",
   "execution_count": 29,
   "id": "5a6de183",
   "metadata": {},
   "outputs": [],
   "source": [
    "def hashcode(string) :\n",
    "    for ch in string :\n",
    "        if ch in key.keys():\n",
    "            print(key.get(ch), end=\"\")\n",
    "        else :\n",
    "            print(ch, end=\"\")"
   ]
  },
  {
   "cell_type": "code",
   "execution_count": 30,
   "id": "8d4f03fe",
   "metadata": {},
   "outputs": [
    {
     "name": "stdout",
     "output_type": "stream",
     "text": [
      "Caesar cipher? I much prefer Caesar salad!"
     ]
    }
   ],
   "source": [
    "if __name__==\"__main__\":\n",
    "    string = \"Pnrfne pvcure? V zhpu cersre Pnrfne fnynq!\"\n",
    "    hashcode(string)"
   ]
  },
  {
   "cell_type": "code",
   "execution_count": null,
   "id": "8dac744d",
   "metadata": {},
   "outputs": [],
   "source": []
  }
 ],
 "metadata": {
  "kernelspec": {
   "display_name": "Python 3 (ipykernel)",
   "language": "python",
   "name": "python3"
  },
  "language_info": {
   "codemirror_mode": {
    "name": "ipython",
    "version": 3
   },
   "file_extension": ".py",
   "mimetype": "text/x-python",
   "name": "python",
   "nbconvert_exporter": "python",
   "pygments_lexer": "ipython3",
   "version": "3.9.13"
  }
 },
 "nbformat": 4,
 "nbformat_minor": 5
}
