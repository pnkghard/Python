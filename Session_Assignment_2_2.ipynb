{
 "cells": [
  {
   "cell_type": "markdown",
   "id": "d9954607",
   "metadata": {},
   "source": [
    "# Define a procedure histogram() that takes a list of integers and prints a histogram to the screen. For example, histogram([4, 9, 7]) should print the following:"
   ]
  },
  {
   "cell_type": "markdown",
   "id": "88b6e1cd",
   "metadata": {},
   "source": [
    "    ****\n",
    "    *********\n",
    "    *******"
   ]
  },
  {
   "cell_type": "code",
   "execution_count": 2,
   "id": "1e7e4f3d",
   "metadata": {},
   "outputs": [],
   "source": [
    "def histogram(arr):\n",
    "    for i in range(len(arr)):\n",
    "        for j in range(arr[i]):\n",
    "            print(\"*\", end=\"\")\n",
    "        print()"
   ]
  },
  {
   "cell_type": "code",
   "execution_count": 7,
   "id": "64c9c7fa",
   "metadata": {},
   "outputs": [
    {
     "name": "stdout",
     "output_type": "stream",
     "text": [
      "****\n",
      "*********\n",
      "*******\n"
     ]
    }
   ],
   "source": [
    "histogram([4, 9, 7])"
   ]
  },
  {
   "cell_type": "markdown",
   "id": "ccebe543",
   "metadata": {},
   "source": [
    "# A pangram is a sentence that contains all the letters of the English alphabet at least once, for example: The quick brown fox jumps over the lazy dog. Your task here is to write a function to check a sentence to see if it is a pangram or not."
   ]
  },
  {
   "cell_type": "code",
   "execution_count": 38,
   "id": "9e9a2201",
   "metadata": {},
   "outputs": [
    {
     "name": "stdout",
     "output_type": "stream",
     "text": [
      "The quick brown fox jumps over the lazy dog\n"
     ]
    }
   ],
   "source": [
    "import string\n",
    "alphabet = set(string.ascii_lowercase)\n",
    "st = \"The quick brown fox jumps over the lazy dog\"\n",
    "print(st)"
   ]
  },
  {
   "cell_type": "code",
   "execution_count": 40,
   "id": "556e8dc9",
   "metadata": {},
   "outputs": [
    {
     "name": "stdout",
     "output_type": "stream",
     "text": [
      "sentence is pangram\n"
     ]
    }
   ],
   "source": [
    "if set(st.lower())>=alphabet:\n",
    "    print(\"sentence is pangram\")\n",
    "else :\n",
    "    print(\"Sentence is not pangram\")"
   ]
  }
 ],
 "metadata": {
  "kernelspec": {
   "display_name": "Python 3 (ipykernel)",
   "language": "python",
   "name": "python3"
  },
  "language_info": {
   "codemirror_mode": {
    "name": "ipython",
    "version": 3
   },
   "file_extension": ".py",
   "mimetype": "text/x-python",
   "name": "python",
   "nbconvert_exporter": "python",
   "pygments_lexer": "ipython3",
   "version": "3.9.13"
  }
 },
 "nbformat": 4,
 "nbformat_minor": 5
}
