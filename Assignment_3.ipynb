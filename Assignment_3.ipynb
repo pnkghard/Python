{
 "cells": [
  {
   "cell_type": "markdown",
   "id": "40b3147b-106a-4fcd-b0e8-3278483e778d",
   "metadata": {},
   "source": [
    "# 1. A student will not be allowed to sit in exam if his/her attendence is less than 75%. Take following input from user"
   ]
  },
  {
   "cell_type": "markdown",
   "id": "5d9922aa-0e27-4b94-bde1-65365e8cd187",
   "metadata": {},
   "source": [
    "            Number of classes held\n",
    "            Number of classes attended.\n",
    "            And print\n",
    "            percentage of class attended\n",
    "            Is student is allowed to sit in exam or not."
   ]
  },
  {
   "cell_type": "code",
   "execution_count": 43,
   "id": "4407571c-4fbd-45e0-b9c2-71db676b0c6a",
   "metadata": {},
   "outputs": [
    {
     "name": "stdout",
     "output_type": "stream",
     "text": [
      "Total Classes : 100\n",
      "Attendance : 74\n"
     ]
    }
   ],
   "source": [
    "totalclasse, attdn = int(input(\"Total Classes : \")), int(input(\"Attendance : \"))"
   ]
  },
  {
   "cell_type": "code",
   "execution_count": 44,
   "id": "a07a39fb-a399-49b8-aa75-e0039f638243",
   "metadata": {},
   "outputs": [
    {
     "name": "stdout",
     "output_type": "stream",
     "text": [
      "% Attendance :  74.0\n",
      "Not allowed in exam...\n"
     ]
    }
   ],
   "source": [
    "att = (attdn/totalclasse)*100\n",
    "print(\"% Attendance : \", att)\n",
    "if att<75:\n",
    "    print(\"Not allowed in exam...\")\n",
    "else:\n",
    "    print(\"Allowed in exam........\")"
   ]
  },
  {
   "cell_type": "markdown",
   "id": "10cf3482",
   "metadata": {},
   "source": [
    "# 2. accept amount from user and find the minimum number notes required to get the amount"
   ]
  },
  {
   "cell_type": "markdown",
   "id": "45d1dc07",
   "metadata": {},
   "source": [
    "    amount =512\n",
    "    Notes: 2000,500,100,50,10,5,2,1\n",
    "    500-1 note\n",
    "    10 - 1 note\n",
    "    2- 1 coin\n",
    "    amount=20550\n",
    "    2000 – 10 note\n",
    "    500 – 1 note\n",
    "    50 -1 note"
   ]
  },
  {
   "cell_type": "code",
   "execution_count": 37,
   "id": "a4c6e752",
   "metadata": {},
   "outputs": [
    {
     "name": "stdout",
     "output_type": "stream",
     "text": [
      "Enter Amount : 20550\n"
     ]
    }
   ],
   "source": [
    "import numpy as np\n",
    "amt = int(input(\"Enter Amount : \"))\n",
    "notes = [2000, 500, 100, 50, 10, 5, 2, 1]"
   ]
  },
  {
   "cell_type": "code",
   "execution_count": 38,
   "id": "6a4492b6",
   "metadata": {},
   "outputs": [
    {
     "name": "stdout",
     "output_type": "stream",
     "text": [
      "2000 - 10\n",
      "500 - 1\n",
      "50 - 1\n"
     ]
    }
   ],
   "source": [
    "dic = {}\n",
    "for i in notes:\n",
    "    if amt>=i:\n",
    "        v = 0\n",
    "        while amt>=i:\n",
    "            v += 1\n",
    "            amt -= i\n",
    "        dic.setdefault(i, v)\n",
    "for k in dic:\n",
    "    print(f\"{k} - {dic[k]}\")"
   ]
  },
  {
   "cell_type": "markdown",
   "id": "0efc5e4a",
   "metadata": {},
   "source": [
    "# 3. Modify the above question to allow student to sit if he/she has medical cause. Ask user if he/she has medical cause or not ( 'Y' or 'N' ) and print accordingly."
   ]
  },
  {
   "cell_type": "code",
   "execution_count": 49,
   "id": "952920dd",
   "metadata": {},
   "outputs": [
    {
     "name": "stdout",
     "output_type": "stream",
     "text": [
      "Enter y/n for medical causes : n\n",
      "% Attendance :  74.0\n",
      "Not Allowed in exam........\n"
     ]
    }
   ],
   "source": [
    "perm = input(\"Enter y/n for medical causes : \")\n",
    "print(\"% Attendance : \", att)\n",
    "if att>75:\n",
    "    print(\"Allowed in exam........\")\n",
    "elif att<75 and perm=='y':\n",
    "    print(\"Allowed in exam........\")\n",
    "else:\n",
    "    print(\"Not Allowed in exam........\")\n",
    "    "
   ]
  },
  {
   "cell_type": "markdown",
   "id": "dcc0c3c1",
   "metadata": {},
   "source": [
    "# 4. A school has following rules for grading system:"
   ]
  },
  {
   "cell_type": "markdown",
   "id": "fb7c0fe1",
   "metadata": {},
   "source": [
    "    a. Below 25 - F\n",
    "    b. 25 to 45 - E\n",
    "    c. 45 to 50 - D\n",
    "    d. 50 to 60 - C\n",
    "    e. 60 to 80 - B\n",
    "    f. Above 80 - A\n",
    "    Ask user to enter marks and print the corresponding grade."
   ]
  },
  {
   "cell_type": "code",
   "execution_count": 1,
   "id": "c396be0d",
   "metadata": {},
   "outputs": [
    {
     "name": "stdout",
     "output_type": "stream",
     "text": [
      "Enter marks : 81\n"
     ]
    }
   ],
   "source": [
    "marks = int(input(\"Enter marks : \"))"
   ]
  },
  {
   "cell_type": "code",
   "execution_count": 2,
   "id": "36a0d945",
   "metadata": {},
   "outputs": [
    {
     "name": "stdout",
     "output_type": "stream",
     "text": [
      "Grade : A\n"
     ]
    }
   ],
   "source": [
    "if marks<25:\n",
    "    print(\"Grade : F\")\n",
    "elif marks>=25 and marks<45:\n",
    "    print(\"Grade : E\")\n",
    "elif marks>=45 and marks<50:\n",
    "    print(\"Grade : D\")\n",
    "elif marks>=50 and marks<60:\n",
    "    print(\"Grade : C\")\n",
    "elif marks>=60 and marks<80:\n",
    "    print(\"Grade : B\")\n",
    "elif marks>=80:\n",
    "    print(\"Grade : A\")"
   ]
  },
  {
   "cell_type": "markdown",
   "id": "2a0b2749",
   "metadata": {},
   "source": [
    "# 5. Print the output of following statements"
   ]
  },
  {
   "cell_type": "markdown",
   "id": "222db109",
   "metadata": {},
   "source": [
    "    If\n",
    "    x=2\n",
    "    y=5\n",
    "    z=0\n",
    "    then find values of the following expressions:\n",
    "    a. x == 2\n",
    "    b. x != 5\n",
    "    c. x != 5 && y >= 5\n",
    "    d. z != 0 || x == 2\n",
    "    e. !(y < 10)"
   ]
  },
  {
   "cell_type": "code",
   "execution_count": 13,
   "id": "453b92ab",
   "metadata": {},
   "outputs": [],
   "source": [
    "x = 2\n",
    "y = 5\n",
    "z = 0"
   ]
  },
  {
   "cell_type": "code",
   "execution_count": 14,
   "id": "9b952dd7",
   "metadata": {},
   "outputs": [
    {
     "data": {
      "text/plain": [
       "True"
      ]
     },
     "execution_count": 14,
     "metadata": {},
     "output_type": "execute_result"
    }
   ],
   "source": [
    "x==2"
   ]
  },
  {
   "cell_type": "code",
   "execution_count": 15,
   "id": "171ef5dd",
   "metadata": {},
   "outputs": [
    {
     "data": {
      "text/plain": [
       "True"
      ]
     },
     "execution_count": 15,
     "metadata": {},
     "output_type": "execute_result"
    }
   ],
   "source": [
    "x != 5"
   ]
  },
  {
   "cell_type": "code",
   "execution_count": 17,
   "id": "f75b615c",
   "metadata": {},
   "outputs": [
    {
     "ename": "SyntaxError",
     "evalue": "invalid syntax (1538419620.py, line 1)",
     "output_type": "error",
     "traceback": [
      "\u001b[0;36m  File \u001b[0;32m\"/tmp/ipykernel_9086/1538419620.py\"\u001b[0;36m, line \u001b[0;32m1\u001b[0m\n\u001b[0;31m    (x != 5) && (y >= 5)\u001b[0m\n\u001b[0m              ^\u001b[0m\n\u001b[0;31mSyntaxError\u001b[0m\u001b[0;31m:\u001b[0m invalid syntax\n"
     ]
    }
   ],
   "source": [
    "(x != 5) && (y >= 5)"
   ]
  },
  {
   "cell_type": "code",
   "execution_count": 18,
   "id": "a6e920bb",
   "metadata": {},
   "outputs": [
    {
     "ename": "SyntaxError",
     "evalue": "invalid syntax (325197638.py, line 1)",
     "output_type": "error",
     "traceback": [
      "\u001b[0;36m  File \u001b[0;32m\"/tmp/ipykernel_9086/325197638.py\"\u001b[0;36m, line \u001b[0;32m1\u001b[0m\n\u001b[0;31m    z != 0 || x==2\u001b[0m\n\u001b[0m            ^\u001b[0m\n\u001b[0;31mSyntaxError\u001b[0m\u001b[0;31m:\u001b[0m invalid syntax\n"
     ]
    }
   ],
   "source": [
    "z != 0 || x==2"
   ]
  },
  {
   "cell_type": "code",
   "execution_count": 19,
   "id": "401d0584",
   "metadata": {},
   "outputs": [
    {
     "name": "stdout",
     "output_type": "stream",
     "text": [
      "/bin/bash: line 1: 10: No such file or directory\r\n"
     ]
    }
   ],
   "source": [
    "!(y<10)"
   ]
  },
  {
   "cell_type": "markdown",
   "id": "a95bab40",
   "metadata": {},
   "source": [
    "# 6. Accept number from user and check whether it is divisible by 5 and 11 if divisible then display appropriate message."
   ]
  },
  {
   "cell_type": "code",
   "execution_count": 25,
   "id": "1e6143ee",
   "metadata": {},
   "outputs": [
    {
     "name": "stdout",
     "output_type": "stream",
     "text": [
      "Enter number : 55\n"
     ]
    }
   ],
   "source": [
    "n = int(input(\"Enter number : \"))"
   ]
  },
  {
   "cell_type": "code",
   "execution_count": 26,
   "id": "e23c0dc3",
   "metadata": {},
   "outputs": [
    {
     "name": "stdout",
     "output_type": "stream",
     "text": [
      "55 divisible by both 5 and 11...\n"
     ]
    }
   ],
   "source": [
    "if (n%5==0) & (n%11==0):\n",
    "    print(f\"{n} divisible by both 5 and 11...\")\n",
    "else:\n",
    "    print(f\"{n} not divisible either 5 or 11 or both....\")"
   ]
  },
  {
   "cell_type": "code",
   "execution_count": null,
   "id": "98765dcc",
   "metadata": {},
   "outputs": [],
   "source": []
  }
 ],
 "metadata": {
  "kernelspec": {
   "display_name": "Python 3 (ipykernel)",
   "language": "python",
   "name": "python3"
  },
  "language_info": {
   "codemirror_mode": {
    "name": "ipython",
    "version": 3
   },
   "file_extension": ".py",
   "mimetype": "text/x-python",
   "name": "python",
   "nbconvert_exporter": "python",
   "pygments_lexer": "ipython3",
   "version": "3.9.13"
  }
 },
 "nbformat": 4,
 "nbformat_minor": 5
}
