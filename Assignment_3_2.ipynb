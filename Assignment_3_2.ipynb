{
 "cells": [
  {
   "cell_type": "markdown",
   "id": "1ed6feba",
   "metadata": {},
   "source": [
    "# 1. Accept 10 integer from user and print their average value on the screen"
   ]
  },
  {
   "cell_type": "code",
   "execution_count": 5,
   "id": "56b7be75",
   "metadata": {},
   "outputs": [
    {
     "name": "stdout",
     "output_type": "stream",
     "text": [
      "1\n",
      "2\n",
      "3\n",
      "4\n",
      "5\n",
      "6\n",
      "7\n",
      "8\n",
      "9\n",
      "10\n",
      "5.5\n"
     ]
    }
   ],
   "source": [
    "avg = 0\n",
    "for i in range(10) :\n",
    "    avg = avg + int(input())\n",
    "print(avg/10)"
   ]
  },
  {
   "cell_type": "markdown",
   "id": "b591c54e",
   "metadata": {},
   "source": [
    "# 2. Print the following pattern using loop"
   ]
  },
  {
   "cell_type": "code",
   "execution_count": 19,
   "id": "f43a8fac",
   "metadata": {},
   "outputs": [
    {
     "name": "stdout",
     "output_type": "stream",
     "text": [
      "Enter value for max print : 5\n"
     ]
    }
   ],
   "source": [
    "n = int(input(\"Enter value for max print : \"))"
   ]
  },
  {
   "cell_type": "markdown",
   "id": "8df170bc",
   "metadata": {},
   "source": [
    "a"
   ]
  },
  {
   "cell_type": "code",
   "execution_count": 20,
   "id": "20012d22",
   "metadata": {},
   "outputs": [
    {
     "name": "stdout",
     "output_type": "stream",
     "text": [
      "*\n",
      "**\n",
      "***\n",
      "****\n",
      "*****\n"
     ]
    }
   ],
   "source": [
    "for i in range(n) :\n",
    "    j = 0\n",
    "    while j<=i :\n",
    "        print(\"*\", end=\"\")\n",
    "        j += 1\n",
    "    print()"
   ]
  },
  {
   "cell_type": "markdown",
   "id": "34205766",
   "metadata": {},
   "source": [
    "b"
   ]
  },
  {
   "cell_type": "code",
   "execution_count": 68,
   "id": "cc722111",
   "metadata": {},
   "outputs": [
    {
     "name": "stdout",
     "output_type": "stream",
     "text": [
      "  *  \n",
      " *** \n",
      "*****\n"
     ]
    }
   ],
   "source": [
    "i = 0\n",
    "while i<n:\n",
    "    j = 0\n",
    "    if i<=n//2:\n",
    "        while j<n:\n",
    "            if j>=(n//2)-i and j<=(n//2)+i:\n",
    "                print(\"*\", end=\"\")\n",
    "            else:\n",
    "                print(\" \", end=\"\")\n",
    "            j += 1\n",
    "        print()\n",
    "    i += 1"
   ]
  },
  {
   "cell_type": "markdown",
   "id": "b1a0ae80",
   "metadata": {},
   "source": [
    "# 3. Write a program to find greatest common divisor (GCD) or highest common factor (HCF) of given two numbers."
   ]
  },
  {
   "cell_type": "code",
   "execution_count": 70,
   "id": "ecf54219",
   "metadata": {},
   "outputs": [
    {
     "name": "stdout",
     "output_type": "stream",
     "text": [
      "Number 1 : 15\n",
      "Number 2 : 25\n"
     ]
    }
   ],
   "source": [
    "x, y = int(input(\"Number 1 : \")), int(input(\"Number 2 : \"))"
   ]
  },
  {
   "cell_type": "code",
   "execution_count": 13,
   "id": "ba697006",
   "metadata": {},
   "outputs": [],
   "source": [
    "import math"
   ]
  },
  {
   "cell_type": "code",
   "execution_count": 72,
   "id": "e3d5d393",
   "metadata": {},
   "outputs": [
    {
     "name": "stdout",
     "output_type": "stream",
     "text": [
      "5\n"
     ]
    }
   ],
   "source": [
    "print(math.gcd(x, y))"
   ]
  },
  {
   "cell_type": "code",
   "execution_count": 74,
   "id": "4eb3e685",
   "metadata": {},
   "outputs": [
    {
     "data": {
      "text/plain": [
       "75.0"
      ]
     },
     "execution_count": 74,
     "metadata": {},
     "output_type": "execute_result"
    }
   ],
   "source": [
    "lcm = (x*y)/math.gcd(x, y)\n",
    "lcm"
   ]
  },
  {
   "cell_type": "markdown",
   "id": "62a93991",
   "metadata": {},
   "source": [
    "# 4. Take integer inputs from user until he/she presses q ( Ask to press q to quit after every integer input ). Print average and product of all numbers."
   ]
  },
  {
   "cell_type": "code",
   "execution_count": 1,
   "id": "20365cba",
   "metadata": {},
   "outputs": [
    {
     "name": "stdout",
     "output_type": "stream",
     "text": [
      "EntereNumber : 1\n",
      "Enter q for the quite : 2\n",
      "EntereNumber : 2\n",
      "Enter q for the quite : 3\n",
      "EntereNumber : 3\n",
      "Enter q for the quite : q\n",
      "Product : 6\n",
      "Average : 2.0\n"
     ]
    }
   ],
   "source": [
    "num = 0\n",
    "product = 1\n",
    "f = 0\n",
    "ch = \" \"\n",
    "while ch!=\"q\":\n",
    "    i = int(input(\"EntereNumber : \"))\n",
    "    num = num + i\n",
    "    if i!=0:\n",
    "        product *= i\n",
    "    f += 1\n",
    "    ch = input(\"Enter q for the quite : \")\n",
    "print(\"Product :\", product)\n",
    "print(\"Average :\", num/f)"
   ]
  },
  {
   "cell_type": "markdown",
   "id": "9479ca2e",
   "metadata": {},
   "source": [
    "# 5. Given a number count the total number of digits in a number and also find sum of digits of the number."
   ]
  },
  {
   "cell_type": "code",
   "execution_count": 3,
   "id": "51452882",
   "metadata": {},
   "outputs": [
    {
     "name": "stdout",
     "output_type": "stream",
     "text": [
      "Enter Number : 25368897\n"
     ]
    }
   ],
   "source": [
    "import math\n",
    "num = int(input(\"Enter Number : \"))"
   ]
  },
  {
   "cell_type": "code",
   "execution_count": 4,
   "id": "b22ddccc",
   "metadata": {},
   "outputs": [
    {
     "name": "stdout",
     "output_type": "stream",
     "text": [
      "Digits in number :  8\n"
     ]
    }
   ],
   "source": [
    "print(\"Digits in number : \", int(math.log10(num))+1)"
   ]
  },
  {
   "cell_type": "code",
   "execution_count": 5,
   "id": "9296db9c",
   "metadata": {},
   "outputs": [
    {
     "name": "stdout",
     "output_type": "stream",
     "text": [
      "Sum of Digits :  48\n"
     ]
    }
   ],
   "source": [
    "sum = 0\n",
    "while num>0:\n",
    "    sum += (num%10)\n",
    "    num = num//10\n",
    "print(\"Sum of Digits : \", sum)"
   ]
  },
  {
   "cell_type": "markdown",
   "id": "e7cdac45",
   "metadata": {},
   "source": [
    "# 6. To display the cube of the number upto given an integer. If the given integer is 5, then display cube of 1 to 4."
   ]
  },
  {
   "cell_type": "code",
   "execution_count": 6,
   "id": "b0e59580",
   "metadata": {},
   "outputs": [
    {
     "name": "stdout",
     "output_type": "stream",
     "text": [
      "Enter n integer : 5\n"
     ]
    }
   ],
   "source": [
    "n = int(input(\"Enter n integer : \"))"
   ]
  },
  {
   "cell_type": "code",
   "execution_count": 7,
   "id": "956292ea",
   "metadata": {},
   "outputs": [
    {
     "name": "stdout",
     "output_type": "stream",
     "text": [
      "1  :  1\n",
      "2  :  8\n",
      "3  :  27\n",
      "4  :  64\n"
     ]
    }
   ],
   "source": [
    "for x in range(1, 5):\n",
    "    print(x, \" : \", x*x*x)"
   ]
  },
  {
   "cell_type": "markdown",
   "id": "e1cf5082",
   "metadata": {},
   "source": [
    "# 7. Accept 20 numbers from user and display sum of only even numbers."
   ]
  },
  {
   "cell_type": "code",
   "execution_count": 12,
   "id": "36d8f6a0",
   "metadata": {},
   "outputs": [
    {
     "name": "stdout",
     "output_type": "stream",
     "text": [
      "Enter number 1 : 1\n",
      "1 not even....\n",
      "Enter number 2 : 2\n",
      "Enter number 3 : 3\n",
      "3 not even....\n",
      "Enter number 4 : 4\n",
      "Enter number 5 : 5\n",
      "5 not even....\n",
      "Enter number 6 : 6\n",
      "Enter number 7 : 7\n",
      "7 not even....\n",
      "Enter number 8 : 8\n",
      "Enter number 9 : 9\n",
      "9 not even....\n",
      "Enter number 10 : 10\n",
      "Enter number 11 : 11\n",
      "11 not even....\n",
      "Enter number 12 : 12\n",
      "Enter number 13 : 13\n",
      "13 not even....\n",
      "Enter number 14 : 14\n",
      "Enter number 15 : 15\n",
      "15 not even....\n",
      "Enter number 16 : 16\n",
      "Enter number 17 : 17\n",
      "17 not even....\n",
      "Enter number 18 : 18\n",
      "Enter number 19 : 19\n",
      "19 not even....\n",
      "Enter number 20 : 20\n",
      "Sum of even numbers :  110\n"
     ]
    }
   ],
   "source": [
    "sum = 0\n",
    "for val in range(20):\n",
    "    n = int(input(f\"Enter number {val+1} : \"))\n",
    "    if n%2==0:\n",
    "        sum += n\n",
    "    else :\n",
    "        print(f\"{n} not even....\")\n",
    "print(\"Sum of even numbers : \", sum)"
   ]
  },
  {
   "cell_type": "markdown",
   "id": "cfe528f9",
   "metadata": {},
   "source": [
    "# 8. Ask user number of terms to be generated of a series. generate numbers for the following series and find its addition [9 + 99 + 999 + 9999+……..]"
   ]
  },
  {
   "cell_type": "code",
   "execution_count": 27,
   "id": "354dc0b7",
   "metadata": {},
   "outputs": [
    {
     "name": "stdout",
     "output_type": "stream",
     "text": [
      "Enter terms : 8\n",
      "9+99+999+9999+.....= 111111102\n"
     ]
    }
   ],
   "source": [
    "term = int(input(\"Enter terms : \"))\n",
    "s = 0\n",
    "sum = 0\n",
    "series = []\n",
    "for i in range(term):\n",
    "    s = s*10 + 9\n",
    "    sum += s\n",
    "    series.append(s)\n",
    "for i in range(term):\n",
    "    print(series[i],end=\"+\")\n",
    "    if i>2:\n",
    "        break\n",
    "print(\".....=\", sum)"
   ]
  },
  {
   "cell_type": "markdown",
   "id": "18038663",
   "metadata": {},
   "source": [
    "# 9. Write a program in python to display the sum of the series [ 1+x+x^2/2!+x^3/3!+....]. Go to the editor"
   ]
  },
  {
   "cell_type": "markdown",
   "id": "2ec045cb",
   "metadata": {},
   "source": [
    "    Test Data :\n",
    "    Input the value of x :3\n",
    "    Input number of terms : 5\n",
    "    Expected Output :\n",
    "    The sum is : 16.375000"
   ]
  },
  {
   "cell_type": "code",
   "execution_count": 1,
   "id": "3bc5690e",
   "metadata": {},
   "outputs": [
    {
     "name": "stdout",
     "output_type": "stream",
     "text": [
      "Enter Value : 3\n",
      "Enter terms : 5\n"
     ]
    }
   ],
   "source": [
    "x, term = int(input(\"Enter Value : \")), int(input(\"Enter terms : \"))"
   ]
  },
  {
   "cell_type": "code",
   "execution_count": 2,
   "id": "6928a139",
   "metadata": {},
   "outputs": [
    {
     "name": "stdout",
     "output_type": "stream",
     "text": [
      "sum of series :  16.375\n"
     ]
    }
   ],
   "source": [
    "import math\n",
    "sum = 1\n",
    "for i in range(1, 5):\n",
    "    sum += math.pow(x, i)/math.factorial(i)\n",
    "print(\"sum of series : \", sum)"
   ]
  },
  {
   "cell_type": "markdown",
   "id": "e9a01d5e",
   "metadata": {},
   "source": [
    "# 10. Write a program in python to find the sum of the series [ x - x^3 + x^5 + ......]. Go to the editor"
   ]
  },
  {
   "cell_type": "markdown",
   "id": "70b8b185",
   "metadata": {},
   "source": [
    "    Test Data :\n",
    "    Input the value of x :2\n",
    "    Input number of terms : 5\n",
    "    Expected Output : The values of the series:\n",
    "                2\n",
    "                -8\n",
    "                32\n",
    "                -128\n",
    "                512\n",
    "                The sum = 410"
   ]
  },
  {
   "cell_type": "code",
   "execution_count": 1,
   "id": "2b15e2c3",
   "metadata": {},
   "outputs": [
    {
     "name": "stdin",
     "output_type": "stream",
     "text": [
      "Enter Value :  2\n",
      "Enter terms :  5\n"
     ]
    }
   ],
   "source": [
    "x, term = int(input(\"Enter Value : \")), int(input(\"Enter terms : \"))"
   ]
  },
  {
   "cell_type": "code",
   "execution_count": 12,
   "id": "5a7c6824",
   "metadata": {},
   "outputs": [
    {
     "name": "stdout",
     "output_type": "stream",
     "text": [
      "2\n",
      "8\n",
      "32\n",
      "128\n",
      "512\n",
      "The Sum =  410\n"
     ]
    }
   ],
   "source": [
    "import math\n",
    "sum = 0\n",
    "p = 1\n",
    "for i in range(term):\n",
    "    z = math.pow(x, p)\n",
    "    print(int(z))\n",
    "    if (i%2)!=0:\n",
    "        sum -= z\n",
    "    else:\n",
    "        sum += z\n",
    "    p += 2\n",
    "print(\"The Sum = \", int(sum))"
   ]
  },
  {
   "cell_type": "code",
   "execution_count": null,
   "id": "6aca7aad-071f-4270-99c1-1b75df312c37",
   "metadata": {},
   "outputs": [],
   "source": []
  }
 ],
 "metadata": {
  "kernelspec": {
   "display_name": "Python 3 (ipykernel)",
   "language": "python",
   "name": "python3"
  },
  "language_info": {
   "codemirror_mode": {
    "name": "ipython",
    "version": 3
   },
   "file_extension": ".py",
   "mimetype": "text/x-python",
   "name": "python",
   "nbconvert_exporter": "python",
   "pygments_lexer": "ipython3",
   "version": "3.9.13"
  }
 },
 "nbformat": 4,
 "nbformat_minor": 5
}
