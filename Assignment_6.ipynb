{
 "cells": [
  {
   "cell_type": "markdown",
   "id": "39226202",
   "metadata": {},
   "source": [
    "# 1. write a regex to get only the part of the email before the \"@\" sign excluding the \"@\" sign. example myemail@google.com o/p myemail"
   ]
  },
  {
   "cell_type": "code",
   "execution_count": 11,
   "id": "749cd67d",
   "metadata": {},
   "outputs": [],
   "source": [
    "email = \"myemail@google.com\"\n",
    "n = email.index('@')"
   ]
  },
  {
   "cell_type": "code",
   "execution_count": 7,
   "id": "d7b2fdda",
   "metadata": {},
   "outputs": [
    {
     "name": "stdout",
     "output_type": "stream",
     "text": [
      "['myemail', 'google.com']\n"
     ]
    }
   ],
   "source": [
    "email = list(map(str, email.split('@')))\n",
    "print(email)"
   ]
  },
  {
   "cell_type": "code",
   "execution_count": 8,
   "id": "427fc6f7",
   "metadata": {},
   "outputs": [
    {
     "name": "stdout",
     "output_type": "stream",
     "text": [
      "myemail\n"
     ]
    }
   ],
   "source": [
    "print(email[0])"
   ]
  },
  {
   "cell_type": "markdown",
   "id": "579a8457",
   "metadata": {},
   "source": [
    "# 2. only the lines that start with a number or any 2 aplphbates"
   ]
  },
  {
   "cell_type": "code",
   "execution_count": null,
   "id": "36aec940",
   "metadata": {},
   "outputs": [],
   "source": []
  },
  {
   "cell_type": "markdown",
   "id": "ce55cd13",
   "metadata": {},
   "source": [
    "# 3. Write a python program to accept mobile number and validate it. it should  contain exactly 10 digits. "
   ]
  },
  {
   "cell_type": "code",
   "execution_count": 17,
   "id": "fdec6225",
   "metadata": {},
   "outputs": [
    {
     "name": "stdout",
     "output_type": "stream",
     "text": [
      "enter mobile number : 123456789\n",
      "123456789 is not valid mobile number\n"
     ]
    }
   ],
   "source": [
    "mobile = input(\"enter mobile number : \")\n",
    "if len(mobile)==10:\n",
    "    print(\"Valid mobile number...\")\n",
    "else:\n",
    "    print(f\"{mobile} is not valid mobile number\")"
   ]
  },
  {
   "cell_type": "markdown",
   "id": "6d5d3635",
   "metadata": {},
   "source": [
    "# 4. Write a python program to accept user name and password  and validate it. username should contain only alphabets or digits and password length should be 8, starts with alphabet and should contain atleast one special character($,@) .\n",
    "    accept username and password from user and validate it. if it is valid then display message welcome to our application. otherwise ask to reenter.\n",
    "    (allows maximum 3 attempts to accept password"
   ]
  },
  {
   "cell_type": "code",
   "execution_count": 7,
   "id": "a1e3d407",
   "metadata": {},
   "outputs": [],
   "source": [
    "import re"
   ]
  },
  {
   "cell_type": "code",
   "execution_count": 24,
   "id": "ad918078",
   "metadata": {},
   "outputs": [],
   "source": [
    "def validuser(usr):\n",
    "    if usr.isalnum():\n",
    "        return True\n",
    "    return False"
   ]
  },
  {
   "cell_type": "code",
   "execution_count": 51,
   "id": "829deef6",
   "metadata": {},
   "outputs": [],
   "source": [
    "def validpass(psd):\n",
    "    if len(psd)==8:\n",
    "        if \"$\" in psd:\n",
    "            return True\n",
    "        elif \"@\" in psd:\n",
    "            return True\n",
    "        return False\n",
    "    else:\n",
    "        print(\"Password length should be \")"
   ]
  },
  {
   "cell_type": "code",
   "execution_count": 56,
   "id": "e220e6c3",
   "metadata": {},
   "outputs": [
    {
     "name": "stdout",
     "output_type": "stream",
     "text": [
      "Enter username : pankaj\n",
      "Enter Password : P@nkajgh\n",
      "Accepted....\n"
     ]
    }
   ],
   "source": [
    "username = input(\"Enter username : \")\n",
    "if validuser(username):\n",
    "    passwd = input(\"Enter Password : \")\n",
    "    if validpass(passwd):\n",
    "        print(\"Accepted....\")\n",
    "    else:\n",
    "        print(\"Access denied.....\")\n",
    "else:\n",
    "    print(\"Username not as per specification...\")"
   ]
  },
  {
   "cell_type": "code",
   "execution_count": null,
   "id": "271dcdb2",
   "metadata": {},
   "outputs": [],
   "source": []
  },
  {
   "cell_type": "code",
   "execution_count": null,
   "id": "6ecb26e2",
   "metadata": {},
   "outputs": [],
   "source": []
  }
 ],
 "metadata": {
  "kernelspec": {
   "display_name": "Python 3 (ipykernel)",
   "language": "python",
   "name": "python3"
  },
  "language_info": {
   "codemirror_mode": {
    "name": "ipython",
    "version": 3
   },
   "file_extension": ".py",
   "mimetype": "text/x-python",
   "name": "python",
   "nbconvert_exporter": "python",
   "pygments_lexer": "ipython3",
   "version": "3.9.13"
  }
 },
 "nbformat": 4,
 "nbformat_minor": 5
}
