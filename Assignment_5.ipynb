{
 "cells": [
  {
   "cell_type": "markdown",
   "id": "8f1678e1",
   "metadata": {},
   "source": [
    "# 1. Reverse the following tuple\n",
    "    aTuple = (10, 20, 30, 40, 50,60)\n",
    "    Expected output:\n",
    "        (60,50, 40, 30, 20, 10)"
   ]
  },
  {
   "cell_type": "code",
   "execution_count": 1,
   "id": "0a411ce9",
   "metadata": {},
   "outputs": [],
   "source": [
    "aTuple = (10, 20, 30, 40, 50,60)"
   ]
  },
  {
   "cell_type": "code",
   "execution_count": 5,
   "id": "aaedc5aa",
   "metadata": {},
   "outputs": [
    {
     "name": "stdout",
     "output_type": "stream",
     "text": [
      "(10, 20, 30, 40, 50, 60)\n"
     ]
    }
   ],
   "source": [
    "print(aTuple)"
   ]
  },
  {
   "cell_type": "markdown",
   "id": "9e02a11b",
   "metadata": {},
   "source": [
    "# 2. display value 20 from the following tuple\n",
    "    aTuple = (\"Orange\", [10, 20, 30], (5, 15, 25))"
   ]
  },
  {
   "cell_type": "code",
   "execution_count": 7,
   "id": "4faeb74b",
   "metadata": {},
   "outputs": [],
   "source": [
    "aTuple = (\"Orange\", [10, 20, 30], (5, 15, 25))"
   ]
  },
  {
   "cell_type": "code",
   "execution_count": 8,
   "id": "4aa3942f",
   "metadata": {},
   "outputs": [
    {
     "name": "stdout",
     "output_type": "stream",
     "text": [
      "20\n"
     ]
    }
   ],
   "source": [
    "print(aTuple[1][1])"
   ]
  },
  {
   "cell_type": "markdown",
   "id": "e960b250",
   "metadata": {},
   "source": [
    "# 3. Unpack the following tuple into 4 variables\n",
    "    aTuple = (10, 20, 30, 40)"
   ]
  },
  {
   "cell_type": "code",
   "execution_count": 9,
   "id": "4c5419fc",
   "metadata": {},
   "outputs": [],
   "source": [
    "aTuple = (10, 20, 30, 40)"
   ]
  },
  {
   "cell_type": "code",
   "execution_count": 10,
   "id": "fd2c1c9f",
   "metadata": {},
   "outputs": [],
   "source": [
    "a, b, c, d = aTuple"
   ]
  },
  {
   "cell_type": "code",
   "execution_count": 11,
   "id": "e546cc59",
   "metadata": {},
   "outputs": [
    {
     "name": "stdout",
     "output_type": "stream",
     "text": [
      "10 20 30 40\n"
     ]
    }
   ],
   "source": [
    "print(a, b, c, d)"
   ]
  },
  {
   "cell_type": "markdown",
   "id": "e8917e96",
   "metadata": {},
   "source": [
    "# 4. Swap the following two tuples\n",
    "    tuple1 = (11, 22)\n",
    "    tuple2 = (99, 88)\n",
    "    Expected output:\n",
    "        tuple1 = (99, 88)\n",
    "        tuple2 = (11, 22)"
   ]
  },
  {
   "cell_type": "code",
   "execution_count": 12,
   "id": "bdf616e4",
   "metadata": {},
   "outputs": [],
   "source": [
    "tuple1 = (11, 22)\n",
    "tuple2 = (99, 88)"
   ]
  },
  {
   "cell_type": "code",
   "execution_count": 14,
   "id": "89a82ba2",
   "metadata": {},
   "outputs": [],
   "source": [
    "tuple1, tuple2 = tuple2, tuple1"
   ]
  },
  {
   "cell_type": "code",
   "execution_count": 15,
   "id": "68fcba4f",
   "metadata": {},
   "outputs": [
    {
     "name": "stdout",
     "output_type": "stream",
     "text": [
      "(99, 88) (11, 22)\n"
     ]
    }
   ],
   "source": [
    "print(tuple1, tuple2)"
   ]
  },
  {
   "cell_type": "markdown",
   "id": "8ad8ca33",
   "metadata": {},
   "source": [
    "# 5. Copy element 44 and 55 from the following tuple into a new tuple\n",
    "    tuple1 = (11, 22, 33, 44, 55, 66)\n",
    "    Expected output:\n",
    "        tuple2: (44, 55)"
   ]
  },
  {
   "cell_type": "code",
   "execution_count": 16,
   "id": "b4bf262d",
   "metadata": {},
   "outputs": [],
   "source": [
    "tuple1 = (11, 22, 33, 44, 55, 66)"
   ]
  },
  {
   "cell_type": "code",
   "execution_count": 25,
   "id": "39ef5236",
   "metadata": {
    "scrolled": true
   },
   "outputs": [],
   "source": [
    "tuple2 = tuple1[3:5]"
   ]
  },
  {
   "cell_type": "code",
   "execution_count": 26,
   "id": "c551fe5d",
   "metadata": {},
   "outputs": [
    {
     "name": "stdout",
     "output_type": "stream",
     "text": [
      "(44, 55)\n"
     ]
    }
   ],
   "source": [
    "print(tuple2)"
   ]
  },
  {
   "cell_type": "markdown",
   "id": "6554fa76",
   "metadata": {},
   "source": [
    "# 6. Modify the first item (22) of a list inside a following tuple to 200\n",
    "    tuple1 = (11, [22, 33], 44, 55)\n",
    "    Expected output:\n",
    "        tuple1: (11, [200, 33], 44, 55)"
   ]
  },
  {
   "cell_type": "code",
   "execution_count": 27,
   "id": "f4816579",
   "metadata": {},
   "outputs": [],
   "source": [
    "tuple1 = (11, [22, 33], 44, 55)"
   ]
  },
  {
   "cell_type": "code",
   "execution_count": 32,
   "id": "8c752d25",
   "metadata": {},
   "outputs": [],
   "source": [
    "tuple1[1][0] = 200"
   ]
  },
  {
   "cell_type": "code",
   "execution_count": 33,
   "id": "f189a3bc",
   "metadata": {},
   "outputs": [
    {
     "name": "stdout",
     "output_type": "stream",
     "text": [
      "(11, [200, 33], 44, 55)\n"
     ]
    }
   ],
   "source": [
    "print(tuple1)"
   ]
  },
  {
   "cell_type": "code",
   "execution_count": null,
   "id": "3a535c4a",
   "metadata": {},
   "outputs": [],
   "source": []
  }
 ],
 "metadata": {
  "kernelspec": {
   "display_name": "Python 3 (ipykernel)",
   "language": "python",
   "name": "python3"
  },
  "language_info": {
   "codemirror_mode": {
    "name": "ipython",
    "version": 3
   },
   "file_extension": ".py",
   "mimetype": "text/x-python",
   "name": "python",
   "nbconvert_exporter": "python",
   "pygments_lexer": "ipython3",
   "version": "3.9.13"
  }
 },
 "nbformat": 4,
 "nbformat_minor": 5
}
