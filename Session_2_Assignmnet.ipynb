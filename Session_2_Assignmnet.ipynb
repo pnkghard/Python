{
 "cells": [
  {
   "cell_type": "markdown",
   "id": "12046f99",
   "metadata": {},
   "source": [
    "# 1.  Using for loop, write and run a Python program for this algorithm. Here is an algorithm to print out n! (n factorial) from 0! to\n",
    "        10! :1. Set f = 1\n",
    "        2. Set n = 0\n",
    "        3. Repeat the following 10 times:\n",
    "        a. Output n, \"! = \", f\n",
    "        b. Add 1 to n\n",
    "        c. Multiply f by n"
   ]
  },
  {
   "cell_type": "code",
   "execution_count": 2,
   "id": "a169f4b2",
   "metadata": {},
   "outputs": [
    {
     "name": "stdout",
     "output_type": "stream",
     "text": [
      "Enter number : 5\n",
      "5! =  120\n"
     ]
    }
   ],
   "source": [
    "f = 1\n",
    "n = int(input(\"Enter number : \"))\n",
    "for i in range(1, n+1):\n",
    "    f *= i\n",
    "print(f\"{n}! = \", f)"
   ]
  },
  {
   "cell_type": "markdown",
   "id": "f20fa5a9",
   "metadata": {},
   "source": [
    "# 2.  Modify the program above using a while loop so it prints out all of the factorial values that are less than 2 billion. (You should be able to do this without looking at the output         of the previous exercise.)"
   ]
  },
  {
   "cell_type": "code",
   "execution_count": 3,
   "id": "a186175f",
   "metadata": {},
   "outputs": [
    {
     "name": "stdout",
     "output_type": "stream",
     "text": [
      "5! =  120\n"
     ]
    }
   ],
   "source": [
    "f = 1\n",
    "m=n\n",
    "while m>0:\n",
    "    f *= m\n",
    "    m -= 1\n",
    "print(f\"{n}! = \", f)"
   ]
  },
  {
   "cell_type": "code",
   "execution_count": null,
   "id": "a47dcc1c",
   "metadata": {},
   "outputs": [],
   "source": []
  }
 ],
 "metadata": {
  "kernelspec": {
   "display_name": "Python 3 (ipykernel)",
   "language": "python",
   "name": "python3"
  },
  "language_info": {
   "codemirror_mode": {
    "name": "ipython",
    "version": 3
   },
   "file_extension": ".py",
   "mimetype": "text/x-python",
   "name": "python",
   "nbconvert_exporter": "python",
   "pygments_lexer": "ipython3",
   "version": "3.9.13"
  }
 },
 "nbformat": 4,
 "nbformat_minor": 5
}
